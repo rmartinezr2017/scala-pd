{
 "cells": [
  {
   "cell_type": "markdown",
   "metadata": {},
   "source": [
    "# Programación declarativa @ URJC\n",
    "# Programación funcional\n",
    "## Curso 21-22, convocatoria ordinaria (27 de octubre de 2021)\n",
    "## Campus de Vicálvaro\n"
   ]
  },
  {
   "cell_type": "markdown",
   "metadata": {},
   "source": [
    "# Definiciones auxiliares"
   ]
  },
  {
   "cell_type": "code",
   "execution_count": 35,
   "metadata": {},
   "outputs": [
    {
     "data": {
      "text/plain": [
       "\u001b[32mimport \u001b[39m\u001b[36m$ivy.$                               \n",
       "\u001b[39m\r\n",
       "\u001b[32mimport \u001b[39m\u001b[36morg.scalatest._\u001b[39m"
      ]
     },
     "execution_count": 35,
     "metadata": {},
     "output_type": "execute_result"
    }
   ],
   "source": [
    "import $ivy.`org.scalatest::scalatest:3.0.8`\n",
    "import org.scalatest._"
   ]
  },
  {
   "cell_type": "markdown",
   "metadata": {},
   "source": [
    "### Algunas definiciones de tipos y funciones auxiliares"
   ]
  },
  {
   "cell_type": "code",
   "execution_count": 36,
   "metadata": {},
   "outputs": [
    {
     "data": {
      "text/plain": [
       "defined \u001b[32mclass\u001b[39m \u001b[36mTree\u001b[39m\r\n",
       "defined \u001b[32mclass\u001b[39m \u001b[36mEmpty\u001b[39m\r\n",
       "defined \u001b[32mclass\u001b[39m \u001b[36mNode\u001b[39m\r\n",
       "defined \u001b[32mobject\u001b[39m \u001b[36mTree\u001b[39m\r\n",
       "\u001b[32mimport \u001b[39m\u001b[36mTree._\n",
       "\n",
       "\u001b[39m\r\n",
       "defined \u001b[32mfunction\u001b[39m \u001b[36mfoldTree\u001b[39m"
      ]
     },
     "execution_count": 36,
     "metadata": {},
     "output_type": "execute_result"
    }
   ],
   "source": [
    "sealed abstract class Tree[A]\n",
    "case class Empty[A]() extends Tree[A]\n",
    "case class Node[A](left: Tree[A], root: A, right: Tree[A]) extends Tree[A]\n",
    "\n",
    "object Tree{\n",
    "    def void[A]: Tree[A] = Empty()\n",
    "    def leaf[A](a: A): Node[A] = Node(Empty(), a, Empty())\n",
    "    def right[A](a: A, tree: Tree[A]): Node[A] = Node(Empty(), a, tree)\n",
    "    def left[A](tree: Tree[A], a: A): Node[A] = Node(tree, a, Empty())\n",
    "    def node[A](left: Tree[A], a: A, right: Tree[A]): Node[A] = Node(left, a, right)\n",
    "}\n",
    "\n",
    "import Tree._\n",
    "\n",
    "def foldTree[A, B](tree: Tree[A])(empty: B)(node: (B, A, B) => B): B = \n",
    "    tree match {\n",
    "        case Empty() => empty\n",
    "        case Node(left, root, right) => node(foldTree(left)(empty)(node), root, foldTree(right)(empty)(node))\n",
    "    }"
   ]
  },
  {
   "cell_type": "code",
   "execution_count": 37,
   "metadata": {},
   "outputs": [
    {
     "data": {
      "text/plain": [
       "defined \u001b[32mobject\u001b[39m \u001b[36mSignatures\u001b[39m"
      ]
     },
     "execution_count": 37,
     "metadata": {},
     "output_type": "execute_result"
    }
   ],
   "source": [
    "object Signatures{\n",
    "    abstract class List[A]{\n",
    "        \n",
    "        // Common HOFs\n",
    "        def foldRight[B](nil: B)(cons: (A, B) => B): B\n",
    "        def foldLeft[B](initial: B)(update: (B, A) => B): B\n",
    "        def map[B](f: A => B): List[B]\n",
    "        def flatMap[B](f: A => List[B]): List[B]\n",
    "        def filter(f: A => Boolean): List[A]\n",
    "        def forall(pred: A => Boolean): Boolean\n",
    "        def exists(pred: A => Boolean): Boolean\n",
    " \n",
    "        // Returns the number of elements of this list\n",
    "        def length: Int\n",
    "        def reverse: List[A]\n",
    "    }\n",
    "}"
   ]
  },
  {
   "cell_type": "markdown",
   "metadata": {},
   "source": [
    "### Definiciones auxiliares sobre la correspondencia Curry-Howard"
   ]
  },
  {
   "cell_type": "code",
   "execution_count": 38,
   "metadata": {},
   "outputs": [
    {
     "data": {
      "text/plain": [
       "defined \u001b[32mtype\u001b[39m \u001b[36mNot\u001b[39m"
      ]
     },
     "execution_count": 38,
     "metadata": {},
     "output_type": "execute_result"
    }
   ],
   "source": [
    "type Not[P] = P => Nothing"
   ]
  },
  {
   "cell_type": "markdown",
   "metadata": {},
   "source": [
    "# Ejercicio 1\n",
    "__(1,5 puntos)__\n",
    "\n",
    "__a) (0,5 puntos)__ Utiliza la correspondencia de Curry-Howard para demostrar la siguiente tautología de la lógica proposicional intuicionista: \n",
    "\n",
    "$\\neg p \\rightarrow \\neg\\neg\\neg p$"
   ]
  },
  {
   "cell_type": "code",
   "execution_count": 7,
   "metadata": {},
   "outputs": [
    {
     "data": {
      "text/plain": [
       "defined \u001b[32mfunction\u001b[39m \u001b[36mproof\u001b[39m"
      ]
     },
     "execution_count": 7,
     "metadata": {},
     "output_type": "execute_result"
    }
   ],
   "source": [
    "def proof[P]: Not[P] => Not[Not[Not[P]]] = {\n",
    "    (pn: P => Nothing) => \n",
    "        (pnn : ((P => Nothing) => Nothing)) => pnn(pn) : Nothing\n",
    "}"
   ]
  },
  {
   "cell_type": "markdown",
   "metadata": {},
   "source": [
    "__b) (1 punto)__ Utiliza la correspondencia de Curry-Howard para demostrar el siguiente teorema de la lógica clásica: \n",
    "\n",
    "$(\\neg q \\rightarrow \\neg p) \\rightarrow (p \\rightarrow q)$\n",
    "\n",
    "Supóngase para ello que la ley del tercio excluso se cumple para la variable proposicional $q$, es decir, que la fórmula $q \\vee \\neg q$  puede utilizarse como premisa.\n"
   ]
  },
  {
   "cell_type": "code",
   "execution_count": 17,
   "metadata": {},
   "outputs": [
    {
     "data": {
      "text/plain": [
       "defined \u001b[32mfunction\u001b[39m \u001b[36mproof\u001b[39m"
      ]
     },
     "execution_count": 17,
     "metadata": {},
     "output_type": "execute_result"
    }
   ],
   "source": [
    "def proof[P,Q](p1: Either[Q, Q => Nothing]): (Not[Q] => Not[P]) => (P => Q) = {\n",
    "    (qnpn : ((Q => Nothing) => (P => Nothing))) => \n",
    "        (p: P) => \n",
    "            p1 match {\n",
    "                case Left(q: Q) => q : Q\n",
    "                case Right(qn: (Q => Nothing)) => qnpn(qn)(p) : Q\n",
    "            } \n",
    "}"
   ]
  },
  {
   "cell_type": "markdown",
   "metadata": {},
   "source": [
    "__b) (1 punto)__ Utiliza la correspondencia de Curry-Howard para demostrar el siguiente teorema de la lógica clásica: \n",
    "\n",
    "$(\\neg q \\rightarrow \\neg p) \\rightarrow (p \\rightarrow q)$\n",
    "\n",
    "Supóngase para ello que la ley de la doble negación se cumple para la variable proposicional $q$, es decir, que la fórmula $\\neg \\neg q \\rightarrow q$  puede utilizarse como premisa.\n"
   ]
  },
  {
   "cell_type": "code",
   "execution_count": 23,
   "metadata": {},
   "outputs": [
    {
     "data": {
      "text/plain": [
       "defined \u001b[32mfunction\u001b[39m \u001b[36mproof\u001b[39m"
      ]
     },
     "execution_count": 23,
     "metadata": {},
     "output_type": "execute_result"
    }
   ],
   "source": [
    "def proof[P,Q](p1: (((Q => Nothing) => Nothing) => Q)): (Not[Q] => Not[P]) => (P => Q) = {\n",
    "    (qnpn: ((Q => Nothing) => (P => Nothing))) => \n",
    "        (p: P) => \n",
    "           (p1((qn : (Q => Nothing)) => qnpn(qn)(p) : Nothing)) : Q\n",
    "}"
   ]
  },
  {
   "cell_type": "markdown",
   "metadata": {},
   "source": [
    "# Ejercicio 2\n",
    "__(1 punto)__"
   ]
  },
  {
   "cell_type": "markdown",
   "metadata": {},
   "source": [
    "Demuestra el siguiente isomorfismo entre tipos algebraicos de datos para todo tipo $X$: \n",
    "\n",
    "$(1+1)^X \\cong Boolean^X$\n",
    "\n",
    "A continuación se muestran unos casos de prueba de este isomorfismo para $X=Int$:"
   ]
  },
  {
   "cell_type": "code",
   "execution_count": 57,
   "metadata": {},
   "outputs": [
    {
     "data": {
      "text/plain": [
       "defined \u001b[32mclass\u001b[39m \u001b[36mIsoTest\u001b[39m"
      ]
     },
     "execution_count": 57,
     "metadata": {},
     "output_type": "execute_result"
    }
   ],
   "source": [
    "class IsoTest(\n",
    "    from: (Int => Either[Unit, Unit]) => Int => Boolean, \n",
    "    to: (Int => Boolean) => Int => Either[Unit, Unit]\n",
    ") extends FlatSpec with Matchers{\n",
    "    \n",
    "    val f: Int => Either[Unit, Unit] = \n",
    "        i => if (i % 2 == 0) Left(()) else Right(())\n",
    "    \n",
    "    val g: Int => Boolean = \n",
    "        _ % 2 == 0\n",
    "    \n",
    "    \"from-to\" should \"work\" in {\n",
    "        from(to(g))(0) shouldBe g(0)\n",
    "        from(to(g))(1) shouldBe g(1)\n",
    "        from(to(g))(2) shouldBe g(2)\n",
    "        from(to(g))(3) shouldBe g(3)\n",
    "    }\n",
    "    \n",
    "    \"to-from\" should \"work\" in {\n",
    "        to(from(f))(0) shouldBe f(0)\n",
    "        to(from(f))(1) shouldBe f(1)\n",
    "        to(from(f))(2) shouldBe f(2)\n",
    "        to(from(f))(3) shouldBe f(3)\n",
    "    }\n",
    "}"
   ]
  },
  {
   "cell_type": "code",
   "execution_count": 58,
   "metadata": {},
   "outputs": [
    {
     "data": {
      "text/plain": [
       "defined \u001b[32mfunction\u001b[39m \u001b[36mfrom\u001b[39m"
      ]
     },
     "execution_count": 58,
     "metadata": {},
     "output_type": "execute_result"
    }
   ],
   "source": [
    "def from[X](xeuu: X => Either[Unit, Unit]): (X => Boolean) = {\n",
    "    (x: X) => \n",
    "        xeuu(x) match {\n",
    "            case Left(u: Unit) => true : Boolean\n",
    "            case Right(u: Unit) => false : Boolean\n",
    "        }\n",
    "}"
   ]
  },
  {
   "cell_type": "code",
   "execution_count": 63,
   "metadata": {},
   "outputs": [
    {
     "data": {
      "text/plain": [
       "defined \u001b[32mfunction\u001b[39m \u001b[36mto\u001b[39m"
      ]
     },
     "execution_count": 63,
     "metadata": {},
     "output_type": "execute_result"
    }
   ],
   "source": [
    "def to[X](xb: (X => Boolean)): (X => Either[Unit, Unit]) = {\n",
    "     (x: X) => {\n",
    "         xb(x) match {\n",
    "             case true => Left(() : Unit)\n",
    "             case false => Right(() : Unit)\n",
    "         }  \n",
    "     }\n",
    "}"
   ]
  },
  {
   "cell_type": "code",
   "execution_count": 64,
   "metadata": {},
   "outputs": [
    {
     "name": "stdout",
     "output_type": "stream",
     "text": [
      "\u001b[32mcmd56$Helper$IsoTest:\u001b[0m\n",
      "\u001b[32mfrom-to\u001b[0m\n",
      "\u001b[32m- should work\u001b[0m\n",
      "\u001b[32mto-from\u001b[0m\n",
      "\u001b[32m- should work\u001b[0m\n"
     ]
    }
   ],
   "source": [
    "run(new IsoTest(from[Int], to[Int]))"
   ]
  },
  {
   "cell_type": "markdown",
   "metadata": {},
   "source": [
    "# Ejercicio 3\n",
    "__(3 puntos)__\n",
    "\n",
    "La función `slice` recibe una lista de valores de tipo `X` y un rango de posiciones, y devuelve una lista con los elementos comprendidos dentro de ese rango. El comportamiento de la función se ilustra en el siguiente test unitario, donde la función `slice` se encuentra particularizada para el tipo `X=Int`:\n"
   ]
  },
  {
   "cell_type": "code",
   "execution_count": 66,
   "metadata": {},
   "outputs": [
    {
     "data": {
      "text/plain": [
       "defined \u001b[32mclass\u001b[39m \u001b[36mTestSlice\u001b[39m"
      ]
     },
     "execution_count": 66,
     "metadata": {},
     "output_type": "execute_result"
    }
   ],
   "source": [
    "class TestSlice(\n",
    "    slice: List[Int] => (Int, Int) => List[Int]\n",
    ") extends FlatSpec with Matchers{\n",
    "    \"slice\" should \"work\" in {\n",
    "        slice(List())(0,3) shouldBe List()\n",
    "        slice(List(1,2,3,4))(5,6) shouldBe List()\n",
    "        slice(List(1,2,3,4))(0,2) shouldBe List(1,2,3)\n",
    "        slice(List(1,2,3,4))(0,6) shouldBe List(1,2,3,4)\n",
    "        slice(List(1,2,3,4))(1,3) shouldBe List(2,3,4)\n",
    "        slice(List(1,2,3,4))(1,2) shouldBe List(2,3)\n",
    "    }\n",
    "}"
   ]
  },
  {
   "cell_type": "markdown",
   "metadata": {},
   "source": [
    "__a) (1,5 puntos)__ Implementa la función `slice` mediante recursión final (o de cola)."
   ]
  },
  {
   "cell_type": "code",
   "execution_count": 69,
   "metadata": {},
   "outputs": [
    {
     "data": {
      "text/plain": [
       "defined \u001b[32mfunction\u001b[39m \u001b[36mslice\u001b[39m"
      ]
     },
     "execution_count": 69,
     "metadata": {},
     "output_type": "execute_result"
    }
   ],
   "source": [
    "def slice[A](list: List[A])(lower: Int, upper: Int): List[A] = {\n",
    "    \n",
    "    def sliceAux(list: List[A])(out: List[A], index: Int): List[A] = {\n",
    "        list match {\n",
    "            /*\n",
    "            Casos: \n",
    "                1. Estamos dentro del rango\n",
    "                2. Estamos fuera del rango\n",
    "                3. Lista vacia\n",
    "            */\n",
    "            case head :: tail if lower <= index && upper >= index =>\n",
    "                sliceAux(tail)(out :+ head,  index + 1)\n",
    "            case _ :: tail =>\n",
    "                sliceAux(tail)(out, index + 1)\n",
    "            case _ =>\n",
    "                out\n",
    "        }\n",
    "    }\n",
    "    sliceAux(list)(Nil, 0)\n",
    "}"
   ]
  },
  {
   "cell_type": "code",
   "execution_count": 70,
   "metadata": {},
   "outputs": [
    {
     "name": "stdout",
     "output_type": "stream",
     "text": [
      "\u001b[32mcmd65$Helper$TestSlice:\u001b[0m\n",
      "\u001b[32mslice\u001b[0m\n",
      "\u001b[32m- should work\u001b[0m\n"
     ]
    }
   ],
   "source": [
    "run(new TestSlice(slice))"
   ]
  },
  {
   "cell_type": "markdown",
   "metadata": {},
   "source": [
    "__b) (1,5 puntos)__ Implementa la función `slice` con `foldLeft`."
   ]
  },
  {
   "cell_type": "code",
   "execution_count": 71,
   "metadata": {},
   "outputs": [
    {
     "data": {
      "text/plain": [
       "defined \u001b[32mfunction\u001b[39m \u001b[36mslice\u001b[39m"
      ]
     },
     "execution_count": 71,
     "metadata": {},
     "output_type": "execute_result"
    }
   ],
   "source": [
    "def slice[A](list: List[A])(lower: Int, upper: Int): List[A] = {\n",
    "    list.foldLeft((Nil: List[A], 0)){\n",
    "            case ((out, index), e) if lower <= index && upper >= index =>\n",
    "                (out :+ e, index + 1)\n",
    "            case ((out, index),_) =>\n",
    "                (out, index + 1)\n",
    "        }._1\n",
    "}"
   ]
  },
  {
   "cell_type": "code",
   "execution_count": 72,
   "metadata": {},
   "outputs": [
    {
     "name": "stdout",
     "output_type": "stream",
     "text": [
      "\u001b[32mcmd65$Helper$TestSlice:\u001b[0m\n",
      "\u001b[32mslice\u001b[0m\n",
      "\u001b[32m- should work\u001b[0m\n"
     ]
    }
   ],
   "source": [
    "run(new TestSlice(slice))"
   ]
  },
  {
   "cell_type": "markdown",
   "metadata": {},
   "source": [
    "# Ejercicio 4\n",
    "__(3 puntos)__\n",
    "\n",
    "Considérese una función que dado un árbol binario devuelve el camino más largo desde la raíz a sus hojas. Si existen varios caminos con la misma longitud máxima, la función devuelve uno cualquiera de ellos. Por ejemplo:"
   ]
  },
  {
   "cell_type": "code",
   "execution_count": null,
   "metadata": {},
   "outputs": [],
   "source": [
    "class TestLongestPath(longest: Tree[Int] => List[Int]) extends FlatSpec with Matchers{\n",
    "    \"longest path\" should \"work\" in {\n",
    "        longest(void) shouldBe \n",
    "            List()\n",
    "        \n",
    "        longest(left(left(right(3,right(2,leaf(1))), 4), 5)) shouldBe \n",
    "            List(5,4,3,2,1)\n",
    "        \n",
    "        longest(node(left(leaf(4), 1), 0, \n",
    "                     node(leaf(3), 2, right(2, right(4, leaf(5)))))) shouldBe \n",
    "            List(0, 2, 2, 4, 5)\n",
    "        \n",
    "        longest(node(left(right(0, leaf(1)), 2), 3, node(left(leaf(5), 4), 9, leaf(7)))) should \n",
    "            (equal(List(3, 2, 0, 1)) or equal(List(3, 9, 4, 5)))\n",
    "    }\n",
    "}"
   ]
  },
  {
   "cell_type": "markdown",
   "metadata": {},
   "source": [
    "__a) (1,5 puntos)__ Implementa la función `longestPath` recursivamente. La implementación podrá hacer uso del método `length` de la clase `List[A]`."
   ]
  },
  {
   "cell_type": "code",
   "execution_count": null,
   "metadata": {},
   "outputs": [],
   "source": []
  },
  {
   "cell_type": "code",
   "execution_count": null,
   "metadata": {},
   "outputs": [],
   "source": [
    "run(new TestLongestPath(longestPath))"
   ]
  },
  {
   "cell_type": "markdown",
   "metadata": {},
   "source": [
    "__b) (1,5 puntos)__ Implementa la función `longestPath` mediante la función de orden superior `foldTree`, __sin__ hacer uso de la función `length`."
   ]
  },
  {
   "cell_type": "code",
   "execution_count": null,
   "metadata": {},
   "outputs": [],
   "source": [
    "run(new TestLongestPath(longestPath))"
   ]
  },
  {
   "cell_type": "markdown",
   "metadata": {},
   "source": [
    "# Ejercicio 5\n",
    "__(1,5 puntos)__\n",
    "\n",
    "El patrón de diseño de divide y vencerás puede describirse de manera simplificada en los siguientes términos:\n",
    "* El patrón se aplica a problemas de tipo `P` que devuelven soluciones de tipo `S`\n",
    "* Un problema de tipo `P` puede ser atómico, es decir, indivisible, o descomponible en dos subproblemas del mismo tipo `P` \n",
    "* Un problema atómico se puede resolver directamente\n",
    "* Un problema descomponible se puede resolver mediante la composición de las soluciones de sus subproblemas\n"
   ]
  },
  {
   "cell_type": "markdown",
   "metadata": {},
   "source": [
    "__a) (1 punto)__ Implementa esta versión simplificada del patrón de divide y vencerás mediante la siguiente función de orden superior `dyv`, donde: \n",
    "* Los parámetros `P` y `S` representan el tipo del problema y de la solución, respectivamente\n",
    "* El parámetro `problem` representa el problema a resolver\n",
    "* La función `decompose` devuelve un valor de tipo `Left` en caso de que el problema sea atómico, o bien un valor de tipo `Right` en caso de que el problema sea descomponible\n",
    "* La función `atomic` resuelve directamente un problema atómico de tipo `P`\n",
    "* La función `compose` combina dos soluciones para obtener una solución global"
   ]
  },
  {
   "cell_type": "markdown",
   "metadata": {},
   "source": [
    "__b) (0,5 puntos)__ A continuación se muestra una implementación ad-hoc del algoritmo de ordenación por mezcla: "
   ]
  },
  {
   "cell_type": "code",
   "execution_count": null,
   "metadata": {},
   "outputs": [],
   "source": [
    "def merge(array1: Array[Int], array2: Array[Int]): Array[Int] = \n",
    "    (array1, array2) match {\n",
    "        case (Array(), Array()) => Array.empty\n",
    "        case (Array(), ys2)     => ys2\n",
    "        case (xs2, Array())     => xs2\n",
    "        case (xs1@Array(x, tail1@_*), ys1@Array(y, tail2@ _*)) =>\n",
    "            if (x < y) x +: merge(tail1.toArray, ys1)\n",
    "            else y +: merge(xs1, tail2.toArray)\n",
    "    }"
   ]
  },
  {
   "cell_type": "code",
   "execution_count": null,
   "metadata": {},
   "outputs": [],
   "source": [
    "def mergeSort(numbers: Array[Int]): Array[Int] = \n",
    "    if (numbers.length <= 1) numbers\n",
    "    else merge(mergeSort(numbers.slice(0, numbers.length/2)), \n",
    "               mergeSort(numbers.slice(numbers.length/2, numbers.length)))"
   ]
  },
  {
   "cell_type": "markdown",
   "metadata": {},
   "source": [
    "Este algoritmo puede considerarse una instancia del esquema de divide y vencerás, siendo el tipo del problema `Array[Int]` y el tipo de la solución igualmente `Array[Int]`. Obsérvese que: \n",
    "* Se puede distinguir entre problemas atómicos (arrays con una longitud menor o igual a uno) y problemas descomponibles (con una longitud mayor que uno)\n",
    "* Un problema atómico se resuelve directamente devolviendo el mismo array de entrada\n",
    "* Un problema descomponible se resuelve mezclando los dos arrays ordenados que se obtienen tras descomponer el array de entrada en dos partes y ordenarlos de manera independiente. \n",
    "\n",
    "__Se pide__ reimplementar el algoritmo de ordenación por mezcla utilizando la función `dyv` del apartado anterior. La implementación podrá hacer uso de las funciones auxiliares utilizadas en la implementación ad-hoc (en particular, `merge` y `_.slice`). "
   ]
  },
  {
   "cell_type": "code",
   "execution_count": null,
   "metadata": {},
   "outputs": [],
   "source": [
    "class TestMergeSort(sort: Array[Int] => Array[Int]) extends FlatSpec with Matchers{\n",
    "    \"merge sort\" should \"work\" in {\n",
    "        sort(Array(8,7,6,5,4,3,2,1)) shouldBe Array(1,2,3,4,5,6,7,8)\n",
    "        sort(Array()) shouldBe Array()\n",
    "        sort(Array(1)) shouldBe Array(1)\n",
    "        sort(Array(5,3,4,7,1,2,8,6)) shouldBe Array(1,2,3,4,5,6,7,8)\n",
    "    }\n",
    "}"
   ]
  },
  {
   "cell_type": "code",
   "execution_count": null,
   "metadata": {},
   "outputs": [],
   "source": [
    "run(new TestMergeSort(mergeSort))"
   ]
  }
 ],
 "metadata": {
  "kernelspec": {
   "display_name": "Scala",
   "language": "scala",
   "name": "scala"
  },
  "language_info": {
   "codemirror_mode": "text/x-scala",
   "file_extension": ".sc",
   "mimetype": "text/x-scala",
   "name": "scala",
   "nbconvert_exporter": "script",
   "version": "2.13.8"
  }
 },
 "nbformat": 4,
 "nbformat_minor": 2
}
