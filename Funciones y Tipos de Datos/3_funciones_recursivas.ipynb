{
 "cells": [
  {
   "cell_type": "markdown",
   "id": "c23a7bca",
   "metadata": {},
   "source": [
    "# Funciones y tipos de datos recursivos"
   ]
  },
  {
   "cell_type": "markdown",
   "id": "e41fd0cb",
   "metadata": {},
   "source": [
    "## Tipos de datos recursivos"
   ]
  },
  {
   "cell_type": "markdown",
   "id": "f83ecc74",
   "metadata": {},
   "source": [
    "### Tipo `List`"
   ]
  },
  {
   "cell_type": "markdown",
   "id": "db4fa2e0",
   "metadata": {},
   "source": [
    "Una lista es una estructura de datos que representa una secuencia de valores del mismo tipo y de longitud finita. Podemos definirla como sigue:"
   ]
  },
  {
   "cell_type": "markdown",
   "id": "2245d724",
   "metadata": {},
   "source": [
    "Una lista puede ser:\n",
    "- Una secuencia vacia de elementos\n",
    "- Una secuencia integrada por un primer elemento y otra lista de elementos. Estos conceptos se denominan **cabeza** y **cola** respectivamente."
   ]
  },
  {
   "cell_type": "markdown",
   "id": "a87560d2",
   "metadata": {},
   "source": [
    "Así pues, el tipo lista puede ser definido mediante la siguiente equación:"
   ]
  },
  {
   "cell_type": "markdown",
   "id": "42a6a69b",
   "metadata": {},
   "source": [
    "Sea $ListaT$ una lista integrada por elementos de tipo $T$. Definimos $ListaT=1+T*ListaT$ tal que $1$ representa la unidad"
   ]
  },
  {
   "cell_type": "markdown",
   "id": "ed3abe9e",
   "metadata": {},
   "source": [
    "Podemos así implementar en Scala la siguiente lista (`List[T]`)"
   ]
  },
  {
   "cell_type": "code",
   "execution_count": 3,
   "id": "98ba8f55",
   "metadata": {},
   "outputs": [
    {
     "data": {
      "text/plain": [
       "defined \u001b[32mobject\u001b[39m \u001b[36mStdDefinition\u001b[39m"
      ]
     },
     "execution_count": 3,
     "metadata": {},
     "output_type": "execute_result"
    }
   ],
   "source": [
    "object StdDefinition {\n",
    "    sealed abstract class List[T]\n",
    "    case class NonEmpty[T](head: T, tail: List[T]) extends List[T]\n",
    "    case class Empty[T]() extends List[T]\n",
    "}"
   ]
  },
  {
   "cell_type": "markdown",
   "id": "ff283890",
   "metadata": {},
   "source": [
    "Sin embargo, en Scala las lista vacias son definidas mediante un objeto (`Nil`) y no mediante una clase, de modo que la implementación se moriaría como sigue:"
   ]
  },
  {
   "cell_type": "code",
   "execution_count": 4,
   "id": "91d55ea9",
   "metadata": {},
   "outputs": [
    {
     "data": {
      "text/plain": [
       "defined \u001b[32mobject\u001b[39m \u001b[36mActualDefinition\u001b[39m"
      ]
     },
     "execution_count": 4,
     "metadata": {},
     "output_type": "execute_result"
    }
   ],
   "source": [
    "object ActualDefinition{\n",
    "    sealed abstract class List[+T]\n",
    "    case class ::[T](head: T, tail: List[T]) extends List[T]\n",
    "    case object Nil extends List[Nothing]\n",
    "}"
   ]
  },
  {
   "cell_type": "markdown",
   "id": "55e408c0",
   "metadata": {},
   "source": [
    "### Azucar sintáctico para listas"
   ]
  },
  {
   "cell_type": "code",
   "execution_count": 1,
   "id": "19ed3881",
   "metadata": {},
   "outputs": [
    {
     "data": {
      "text/plain": [
       "\u001b[36ml1\u001b[39m: \u001b[32mList\u001b[39m[\u001b[32mInt\u001b[39m] = \u001b[33mList\u001b[39m(\u001b[32m1\u001b[39m, \u001b[32m2\u001b[39m, \u001b[32m3\u001b[39m)\r\n",
       "\u001b[36ml2\u001b[39m: \u001b[32mList\u001b[39m[\u001b[32mInt\u001b[39m] = \u001b[33mList\u001b[39m(\u001b[32m1\u001b[39m, \u001b[32m2\u001b[39m, \u001b[32m3\u001b[39m)\r\n",
       "\u001b[36ml3\u001b[39m: \u001b[32mList\u001b[39m[\u001b[32mInt\u001b[39m] = \u001b[33mList\u001b[39m(\u001b[32m1\u001b[39m, \u001b[32m2\u001b[39m, \u001b[32m3\u001b[39m)"
      ]
     },
     "execution_count": 1,
     "metadata": {},
     "output_type": "execute_result"
    }
   ],
   "source": [
    "// Podemos escribirlas con una notación clásica\n",
    "val l1: List[Int] = ::(1, ::(2, ::(3, Nil)))\n",
    "\n",
    "// O podemos usar azucar sintáctico\n",
    "val l2: List[Int] = 1 :: 2 :: 3 :: Nil\n",
    "val l3: List[Int] = List(1,2,3)"
   ]
  },
  {
   "cell_type": "markdown",
   "id": "ddc1eb60",
   "metadata": {},
   "source": [
    "Tambien podemos aplicar pattern matching sobre listas para así operar"
   ]
  },
  {
   "cell_type": "code",
   "execution_count": 2,
   "id": "e94ae13a",
   "metadata": {},
   "outputs": [
    {
     "data": {
      "text/plain": [
       "\u001b[36mres1_0\u001b[39m: \u001b[32mInt\u001b[39m = \u001b[32m1\u001b[39m\r\n",
       "\u001b[36mres1_1\u001b[39m: \u001b[32mInt\u001b[39m = \u001b[32m1\u001b[39m\r\n",
       "\u001b[36mres1_2\u001b[39m: \u001b[32mInt\u001b[39m = \u001b[32m1\u001b[39m"
      ]
     },
     "execution_count": 2,
     "metadata": {},
     "output_type": "execute_result"
    }
   ],
   "source": [
    "// De forma clásica\n",
    "l1 match {\n",
    "    case Nil => 0\n",
    "    case ::(head, tail) => 1\n",
    "}\n",
    "\n",
    "// O con azucar sintáctico\n",
    "l1 match {\n",
    "    case Nil => 0\n",
    "    case head :: tail => 1\n",
    "}\n",
    "\n",
    "l1 match {\n",
    "    case List() => 0\n",
    "    case List(h1, h2, h3) => 1\n",
    "}"
   ]
  },
  {
   "cell_type": "markdown",
   "id": "9975a186",
   "metadata": {},
   "source": [
    "## Funciones recursivas sobre listas"
   ]
  },
  {
   "cell_type": "markdown",
   "id": "3ae9266c",
   "metadata": {},
   "source": [
    "Al hacer definido las listas como una estructura de datos recursiva podemos operar con ellas usando funciones recursivas."
   ]
  },
  {
   "cell_type": "markdown",
   "id": "8d2239f6",
   "metadata": {},
   "source": [
    "Podemos ejemplificarlo con una función que calcule la longitud de una lista. Vamos a dar una versión iterativa y otra recursiva"
   ]
  },
  {
   "cell_type": "code",
   "execution_count": 6,
   "id": "91b2eecd",
   "metadata": {},
   "outputs": [
    {
     "data": {
      "text/plain": [
       "defined \u001b[32mfunction\u001b[39m \u001b[36mlengthI\u001b[39m\r\n",
       "defined \u001b[32mfunction\u001b[39m \u001b[36mlengthR\u001b[39m"
      ]
     },
     "execution_count": 6,
     "metadata": {},
     "output_type": "execute_result"
    }
   ],
   "source": [
    "//Implementacion iterativa\n",
    "def lengthI[T](list: List[T]): Int = {\n",
    "    var acc: Int = 0\n",
    "    var aux: List[T] = list\n",
    "    while (aux != Nil){\n",
    "        // Esto no se debe hacer...\n",
    "        aux = aux.asInstanceOf[::[T]].tail\n",
    "        acc += 1\n",
    "    }\n",
    "    acc\n",
    "}\n",
    "\n",
    "// Implementación resursiva\n",
    "def lengthR[T](list: List[T]): Int =\n",
    "    list match {\n",
    "        case Nil => 0\n",
    "        case _ :: tail => 1 + lengthR(tail)\n",
    "    }"
   ]
  },
  {
   "cell_type": "code",
   "execution_count": 7,
   "id": "61b5eb4a",
   "metadata": {},
   "outputs": [
    {
     "data": {
      "text/plain": [
       "\u001b[36mres6_0\u001b[39m: \u001b[32mInt\u001b[39m = \u001b[32m0\u001b[39m\r\n",
       "\u001b[36mres6_1\u001b[39m: \u001b[32mInt\u001b[39m = \u001b[32m4\u001b[39m\r\n",
       "\u001b[36mres6_2\u001b[39m: \u001b[32mInt\u001b[39m = \u001b[32m0\u001b[39m\r\n",
       "\u001b[36mres6_3\u001b[39m: \u001b[32mInt\u001b[39m = \u001b[32m4\u001b[39m"
      ]
     },
     "execution_count": 7,
     "metadata": {},
     "output_type": "execute_result"
    }
   ],
   "source": [
    "// Resultados usando la versión iterativa\n",
    "lengthI(List())\n",
    "lengthI(List(1,2,3,4))\n",
    "\n",
    "// Resultados usando la versión recursiva\n",
    "lengthR(List())\n",
    "lengthR(List(1,2,3,4))"
   ]
  },
  {
   "cell_type": "markdown",
   "id": "350cec1f",
   "metadata": {},
   "source": [
    "Algunas observaciones:\n",
    "- Las implementaciones recursivas se basan en un patrón de divide y vencerás por el que construimos la función basandonos en los diferentes tipos que vamos encontrando en cada caso. Este método facilita la implementación de una función en comparación con su versión iterativa\n",
    "- Sin embargo la recursión es problemática para listas de muchos elementos ya que colapsan la pila del sistema"
   ]
  },
  {
   "cell_type": "markdown",
   "id": "64682a5d",
   "metadata": {},
   "source": [
    "### Funciones de recursión de cola"
   ]
  },
  {
   "cell_type": "markdown",
   "id": "a6602d0b",
   "metadata": {},
   "source": [
    "Con el fin de solventar el problema del colapso de la pila del sistema, podemos usar una implementación basada en la recursión de cola. La idea principal es usar funciones auxiliares con el fin de no arrastrar las variables locales que tenemos siempre dentro de la función."
   ]
  },
  {
   "cell_type": "code",
   "execution_count": 8,
   "id": "455229b6",
   "metadata": {},
   "outputs": [
    {
     "data": {
      "text/plain": [
       "defined \u001b[32mfunction\u001b[39m \u001b[36mlengthTR\u001b[39m"
      ]
     },
     "execution_count": 8,
     "metadata": {},
     "output_type": "execute_result"
    }
   ],
   "source": [
    "// Implementación de la longitus de una lista por recursión de cola\n",
    "def lengthTR[A](l: List[A]) = {\n",
    "    \n",
    "    @annotation.tailrec\n",
    "    def auxLength[A](count: Int, l: List[A]): Int =\n",
    "        l match {\n",
    "            case Nil => count\n",
    "            case _ :: tail => auxLength(count + 1 , tail)\n",
    "        }\n",
    "    \n",
    "    auxLength(0, l)\n",
    "}"
   ]
  },
  {
   "cell_type": "code",
   "execution_count": 10,
   "id": "7eaa6f39",
   "metadata": {},
   "outputs": [
    {
     "data": {
      "text/plain": [
       "\u001b[36mres9_0\u001b[39m: \u001b[32mInt\u001b[39m = \u001b[32m0\u001b[39m\r\n",
       "\u001b[36mres9_1\u001b[39m: \u001b[32mInt\u001b[39m = \u001b[32m3\u001b[39m"
      ]
     },
     "execution_count": 10,
     "metadata": {},
     "output_type": "execute_result"
    }
   ],
   "source": [
    "//Probamos el método\n",
    "lengthTR(List())\n",
    "lengthTR(List(1,2,3))"
   ]
  },
  {
   "cell_type": "markdown",
   "id": "3653d2bc",
   "metadata": {},
   "source": [
    "Ahora podemos implementar un método que nos cree una lista constante de una longitud dada para probar la eficiencia de todos los métodos que hemos implementado"
   ]
  },
  {
   "cell_type": "code",
   "execution_count": 12,
   "id": "edcb7dbf",
   "metadata": {},
   "outputs": [
    {
     "data": {
      "text/plain": [
       "defined \u001b[32mfunction\u001b[39m \u001b[36mconstantListI\u001b[39m\r\n",
       "defined \u001b[32mfunction\u001b[39m \u001b[36mconstrantListTR\u001b[39m"
      ]
     },
     "execution_count": 12,
     "metadata": {},
     "output_type": "execute_result"
    }
   ],
   "source": [
    "// Iterativamente\n",
    "def constantListI[A](value: A, size: Int): List[A] = {\n",
    "    var list: List[A] = Nil\n",
    "    for (i <- 1 to size)\n",
    "        list = value :: list\n",
    "    return list\n",
    "}\n",
    "\n",
    "// Con recursión de cola\n",
    "def constrantListTR[A](value: A, size: Int): List[A] = {\n",
    "    \n",
    "    def constantListTRAux(list: List[A], size: Int): List[A] = {\n",
    "        if (size == 0) list\n",
    "        else constantListTRAux(value :: list, size - 1)\n",
    "    } \n",
    "    \n",
    "    constantListTRAux(Nil, size)\n",
    "}"
   ]
  },
  {
   "cell_type": "markdown",
   "id": "ce20ed7e",
   "metadata": {},
   "source": [
    "Ahora podemos probar los métodos de longitud"
   ]
  },
  {
   "cell_type": "code",
   "execution_count": 13,
   "id": "a9786334",
   "metadata": {},
   "outputs": [
    {
     "data": {
      "text/plain": [
       "\u001b[36mres12\u001b[39m: \u001b[32mInt\u001b[39m = \u001b[32m1000000\u001b[39m"
      ]
     },
     "execution_count": 13,
     "metadata": {},
     "output_type": "execute_result"
    }
   ],
   "source": [
    "// Iterativo\n",
    "lengthI(constrantListTR(0, 1000000))"
   ]
  },
  {
   "cell_type": "code",
   "execution_count": 14,
   "id": "97396492",
   "metadata": {},
   "outputs": [
    {
     "data": {
      "text/plain": [
       "\u001b[36mres13\u001b[39m: \u001b[32mInt\u001b[39m = \u001b[32m1000000\u001b[39m"
      ]
     },
     "execution_count": 14,
     "metadata": {},
     "output_type": "execute_result"
    }
   ],
   "source": [
    "// Con recursión de cola\n",
    "lengthTR(constrantListTR(0, 1000000))"
   ]
  },
  {
   "cell_type": "code",
   "execution_count": 19,
   "id": "9af6c99d",
   "metadata": {},
   "outputs": [
    {
     "name": "stdout",
     "output_type": "stream",
     "text": [
      "Stack overflow\r\n"
     ]
    },
    {
     "data": {
      "text/plain": [
       "\u001b[36mres18\u001b[39m: \u001b[32mAnyVal\u001b[39m = ()"
      ]
     },
     "execution_count": 19,
     "metadata": {},
     "output_type": "execute_result"
    }
   ],
   "source": [
    "// Con recursión simple (la pila desborda)\n",
    "try\n",
    "    lengthR(constrantListTR(0, 1000000))\n",
    "catch {\n",
    "    case _ => println(\"Stack overflow\")\n",
    "}"
   ]
  },
  {
   "cell_type": "markdown",
   "id": "3d8b53cb",
   "metadata": {},
   "source": [
    "## Testing unitario con `scalatest`"
   ]
  },
  {
   "cell_type": "markdown",
   "id": "c394299e",
   "metadata": {},
   "source": [
    "La libreria de `scalatest` nos permite implementar test unitarios para las funciones que programemos, de modo que usando el método `shouldBe` podemos comprobar los resultados reales con los esperados."
   ]
  },
  {
   "cell_type": "code",
   "execution_count": 20,
   "id": "87845c99",
   "metadata": {},
   "outputs": [
    {
     "data": {
      "text/plain": [
       "\u001b[32mimport \u001b[39m\u001b[36m$ivy.$                               \n",
       "\u001b[39m\r\n",
       "\u001b[32mimport \u001b[39m\u001b[36morg.scalatest._\u001b[39m"
      ]
     },
     "execution_count": 20,
     "metadata": {},
     "output_type": "execute_result"
    }
   ],
   "source": [
    "import $ivy.`org.scalatest::scalatest:3.0.8`\n",
    "import org.scalatest._"
   ]
  },
  {
   "cell_type": "markdown",
   "id": "b31bbe09",
   "metadata": {},
   "source": [
    "Podemos hacer un test con las funciones de longitud que declaramos anteriormente:"
   ]
  },
  {
   "cell_type": "code",
   "execution_count": 21,
   "id": "ca6c50a4",
   "metadata": {},
   "outputs": [
    {
     "data": {
      "text/plain": [
       "defined \u001b[32mclass\u001b[39m \u001b[36mTestLength\u001b[39m"
      ]
     },
     "execution_count": 21,
     "metadata": {},
     "output_type": "execute_result"
    }
   ],
   "source": [
    "class TestLength(lengthF: List[Int] => Int) extends FlatSpec with Matchers{\n",
    "    \"length\" should \"work\" in {\n",
    "        lengthF(List()) shouldBe 0 \n",
    "        lengthF(List(1)) shouldBe 1 \n",
    "        lengthF(List(1,2,3,4)) shouldBe 4\n",
    "    }\n",
    "}"
   ]
  },
  {
   "cell_type": "markdown",
   "id": "093ff6e9",
   "metadata": {},
   "source": [
    "Mediante el método `run` ejecutamos el test"
   ]
  },
  {
   "cell_type": "code",
   "execution_count": 22,
   "id": "aa4f6398",
   "metadata": {},
   "outputs": [
    {
     "name": "stdout",
     "output_type": "stream",
     "text": [
      "\u001b[32mcmd20$Helper$TestLength:\u001b[0m\n",
      "\u001b[32mlength\u001b[0m\n",
      "\u001b[32m- should work\u001b[0m\n"
     ]
    }
   ],
   "source": [
    "run(new TestLength(lengthR))"
   ]
  },
  {
   "cell_type": "markdown",
   "id": "ae0c5c1a",
   "metadata": {},
   "source": [
    "## Algunos ejemplos de métodos sobre listas"
   ]
  },
  {
   "cell_type": "markdown",
   "id": "e792e50f",
   "metadata": {},
   "source": [
    "### Sumar los números que contiene una lista"
   ]
  },
  {
   "cell_type": "markdown",
   "id": "8c793e5a",
   "metadata": {},
   "source": [
    "En primer lugar definimos un test para comprobar el comportamiento de nuestra función y a partir de ahí programarla (TDD)."
   ]
  },
  {
   "cell_type": "code",
   "execution_count": 23,
   "id": "4d4feff1",
   "metadata": {},
   "outputs": [
    {
     "data": {
      "text/plain": [
       "defined \u001b[32mclass\u001b[39m \u001b[36mTestSum\u001b[39m"
      ]
     },
     "execution_count": 23,
     "metadata": {},
     "output_type": "execute_result"
    }
   ],
   "source": [
    "class TestSum(sum: List[Int] => Int) extends FlatSpec with Matchers{\n",
    "    \"sum\" should \"work\" in {\n",
    "        sum(List()) shouldBe 0 \n",
    "        sum(List(1)) shouldBe 1 \n",
    "        sum(List(1,2,3,4)) shouldBe 10\n",
    "    }\n",
    "}"
   ]
  },
  {
   "cell_type": "code",
   "execution_count": 25,
   "id": "6f27853d",
   "metadata": {},
   "outputs": [
    {
     "data": {
      "text/plain": [
       "defined \u001b[32mfunction\u001b[39m \u001b[36msumR\u001b[39m"
      ]
     },
     "execution_count": 25,
     "metadata": {},
     "output_type": "execute_result"
    }
   ],
   "source": [
    "// Definición recursiva\n",
    "def sumR(l: List[Int]): Int = {\n",
    "    l match {\n",
    "        case Nil => 0\n",
    "        case head :: tail => head + sum(tail)\n",
    "    }\n",
    "}"
   ]
  },
  {
   "cell_type": "code",
   "execution_count": 26,
   "id": "3ce96df2",
   "metadata": {},
   "outputs": [
    {
     "name": "stdout",
     "output_type": "stream",
     "text": [
      "\u001b[32mcmd22$Helper$TestSum:\u001b[0m\n",
      "\u001b[32msum\u001b[0m\n",
      "\u001b[32m- should work\u001b[0m\n"
     ]
    }
   ],
   "source": [
    "run(new TestSum(sumR))"
   ]
  },
  {
   "cell_type": "code",
   "execution_count": 27,
   "id": "0019cf6f",
   "metadata": {},
   "outputs": [
    {
     "data": {
      "text/plain": [
       "defined \u001b[32mfunction\u001b[39m \u001b[36msumTR\u001b[39m"
      ]
     },
     "execution_count": 27,
     "metadata": {},
     "output_type": "execute_result"
    }
   ],
   "source": [
    "// Definición con recursión de cola\n",
    "def sumTR(l: List[Int]): Int = {\n",
    "    \n",
    "    def sumTRAux(count: Int, list: List[Int]): Int = {\n",
    "        list match {\n",
    "            case Nil => count\n",
    "            case head :: tail => sumTRAux(count + head, tail)\n",
    "        }\n",
    "    }\n",
    "    sumTRAux(0, l)\n",
    "}"
   ]
  },
  {
   "cell_type": "code",
   "execution_count": 28,
   "id": "db7b1ba9",
   "metadata": {},
   "outputs": [
    {
     "name": "stdout",
     "output_type": "stream",
     "text": [
      "\u001b[32mcmd22$Helper$TestSum:\u001b[0m\n",
      "\u001b[32msum\u001b[0m\n",
      "\u001b[32m- should work\u001b[0m\n"
     ]
    }
   ],
   "source": [
    "run(new TestSum(sumTR))"
   ]
  },
  {
   "cell_type": "markdown",
   "id": "08956e32",
   "metadata": {},
   "source": [
    "### Multiplicar los elementos que contiene una lista"
   ]
  },
  {
   "cell_type": "code",
   "execution_count": 29,
   "id": "cf8e2b18",
   "metadata": {},
   "outputs": [
    {
     "data": {
      "text/plain": [
       "defined \u001b[32mclass\u001b[39m \u001b[36mTestProduct\u001b[39m"
      ]
     },
     "execution_count": 29,
     "metadata": {},
     "output_type": "execute_result"
    }
   ],
   "source": [
    "class TestProduct(product: List[Int] => Int) extends FlatSpec with Matchers{\n",
    "    \"product\" should \"work\" in {\n",
    "        product(List()) shouldBe 1 \n",
    "        product(List(1)) shouldBe 1 \n",
    "        product(List(1,2,3,4)) shouldBe 24\n",
    "        product(List(1,0,5,6,7)) shouldBe 0\n",
    "    }\n",
    "}"
   ]
  },
  {
   "cell_type": "code",
   "execution_count": 30,
   "id": "117c11cd",
   "metadata": {},
   "outputs": [
    {
     "data": {
      "text/plain": [
       "defined \u001b[32mfunction\u001b[39m \u001b[36mmultR\u001b[39m"
      ]
     },
     "execution_count": 30,
     "metadata": {},
     "output_type": "execute_result"
    }
   ],
   "source": [
    "// Definición recursiva\n",
    "def multR(l: List[Int]): Int = {\n",
    "    l match {\n",
    "        case Nil => 1\n",
    "        case head :: tail =>\n",
    "            head * multR(tail)\n",
    "    }\n",
    "}"
   ]
  },
  {
   "cell_type": "code",
   "execution_count": 31,
   "id": "0497ece7",
   "metadata": {},
   "outputs": [
    {
     "name": "stdout",
     "output_type": "stream",
     "text": [
      "\u001b[32mcmd28$Helper$TestProduct:\u001b[0m\n",
      "\u001b[32mproduct\u001b[0m\n",
      "\u001b[32m- should work\u001b[0m\n"
     ]
    }
   ],
   "source": [
    "run(new TestProduct(multR))"
   ]
  },
  {
   "cell_type": "code",
   "execution_count": 32,
   "id": "1509403a",
   "metadata": {},
   "outputs": [
    {
     "data": {
      "text/plain": [
       "defined \u001b[32mfunction\u001b[39m \u001b[36mmultROpt\u001b[39m"
      ]
     },
     "execution_count": 32,
     "metadata": {},
     "output_type": "execute_result"
    }
   ],
   "source": [
    "// Optimización en caso de encontrar 0 en la lista, devolvemos directamente 0 como resultado\n",
    "def multROpt(l: List[Int]): Int = {\n",
    "    l match {\n",
    "        case Nil => 1\n",
    "        case 0 :: _ => 0\n",
    "        case head :: tail => \n",
    "            head * multROpt(tail)\n",
    "    }\n",
    "}"
   ]
  },
  {
   "cell_type": "code",
   "execution_count": 33,
   "id": "e402f847",
   "metadata": {},
   "outputs": [
    {
     "name": "stdout",
     "output_type": "stream",
     "text": [
      "\u001b[32mcmd28$Helper$TestProduct:\u001b[0m\n",
      "\u001b[32mproduct\u001b[0m\n",
      "\u001b[32m- should work\u001b[0m\n"
     ]
    }
   ],
   "source": [
    "run(new TestProduct(multROpt))"
   ]
  },
  {
   "cell_type": "markdown",
   "id": "840e712a",
   "metadata": {},
   "source": [
    "### Comprobar que un elemento pertenece a una lista"
   ]
  },
  {
   "cell_type": "code",
   "execution_count": 34,
   "id": "2fce301f",
   "metadata": {},
   "outputs": [
    {
     "data": {
      "text/plain": [
       "defined \u001b[32mclass\u001b[39m \u001b[36mTestMember\u001b[39m"
      ]
     },
     "execution_count": 34,
     "metadata": {},
     "output_type": "execute_result"
    }
   ],
   "source": [
    "class TestMember(member: (List[Int], Int) => Boolean) extends FlatSpec with Matchers{\n",
    "    \"member\" should \"work\" in {\n",
    "        member(List(), 6) shouldBe false\n",
    "        member(List(1), 1) shouldBe true\n",
    "        member(List(1), 3) shouldBe false\n",
    "        member(List(1,2,3,4), 4) shouldBe true\n",
    "    }\n",
    "}"
   ]
  },
  {
   "cell_type": "code",
   "execution_count": 38,
   "id": "01e539d9",
   "metadata": {},
   "outputs": [
    {
     "data": {
      "text/plain": [
       "defined \u001b[32mfunction\u001b[39m \u001b[36mmember\u001b[39m"
      ]
     },
     "execution_count": 38,
     "metadata": {},
     "output_type": "execute_result"
    }
   ],
   "source": [
    "// Implementación recursiva\n",
    "def member[A](list: List[A], value: A): Boolean = {\n",
    "    list match {\n",
    "        case Nil => false\n",
    "        case head :: tail => {\n",
    "            if (head == value) true\n",
    "            else member(tail, value)\n",
    "        }\n",
    "    }\n",
    "}"
   ]
  },
  {
   "cell_type": "code",
   "execution_count": 39,
   "id": "5da89cf6",
   "metadata": {},
   "outputs": [
    {
     "name": "stdout",
     "output_type": "stream",
     "text": [
      "\u001b[32mcmd33$Helper$TestMember:\u001b[0m\n",
      "\u001b[32mmember\u001b[0m\n",
      "\u001b[32m- should work\u001b[0m\n"
     ]
    }
   ],
   "source": [
    "run(new TestMember(member[Int]))"
   ]
  },
  {
   "cell_type": "code",
   "execution_count": 41,
   "id": "f43c5f09",
   "metadata": {},
   "outputs": [
    {
     "data": {
      "text/plain": [
       "defined \u001b[32mfunction\u001b[39m \u001b[36mmemberOpt\u001b[39m"
      ]
     },
     "execution_count": 41,
     "metadata": {},
     "output_type": "execute_result"
    }
   ],
   "source": [
    "// implementación optimizada\n",
    "def memberOpt[A](list: List[A], value: A): Boolean = {\n",
    "    list match {\n",
    "        case Nil => false\n",
    "        case `value` :: _ => true\n",
    "        case _ :: tail => member(tail, value)\n",
    "    }\n",
    "}"
   ]
  },
  {
   "cell_type": "code",
   "execution_count": 42,
   "id": "e2ad1652",
   "metadata": {},
   "outputs": [
    {
     "name": "stdout",
     "output_type": "stream",
     "text": [
      "\u001b[32mcmd33$Helper$TestMember:\u001b[0m\n",
      "\u001b[32mmember\u001b[0m\n",
      "\u001b[32m- should work\u001b[0m\n"
     ]
    }
   ],
   "source": [
    "run(new TestMember(memberOpt[Int]))"
   ]
  },
  {
   "cell_type": "markdown",
   "id": "940d57e4",
   "metadata": {},
   "source": [
    "### Obtener el último elemento de una lista"
   ]
  },
  {
   "cell_type": "code",
   "execution_count": 43,
   "id": "7443bbae",
   "metadata": {},
   "outputs": [
    {
     "data": {
      "text/plain": [
       "defined \u001b[32mclass\u001b[39m \u001b[36mTestLast\u001b[39m"
      ]
     },
     "execution_count": 43,
     "metadata": {},
     "output_type": "execute_result"
    }
   ],
   "source": [
    "class TestLast(last: List[Int] => Option[Int]) extends FlatSpec with Matchers{\n",
    "    \"last\" should \"work\" in {\n",
    "        last(List()) shouldBe None\n",
    "        last(List(1)) shouldBe Some(1)\n",
    "        last(List(1,2,3,4)) shouldBe Some(4)\n",
    "    }\n",
    "}"
   ]
  },
  {
   "cell_type": "code",
   "execution_count": 44,
   "id": "8f6c3ce7",
   "metadata": {},
   "outputs": [
    {
     "data": {
      "text/plain": [
       "defined \u001b[32mfunction\u001b[39m \u001b[36mlast\u001b[39m"
      ]
     },
     "execution_count": 44,
     "metadata": {},
     "output_type": "execute_result"
    }
   ],
   "source": [
    "def last[A](list: List[A]): Option[A] = {\n",
    "    list match {\n",
    "        case Nil => None\n",
    "        case head :: Nil => Some(head)\n",
    "        case _ :: tail => last(tail)\n",
    "    }\n",
    "}"
   ]
  },
  {
   "cell_type": "code",
   "execution_count": 45,
   "id": "109388a8",
   "metadata": {},
   "outputs": [
    {
     "name": "stdout",
     "output_type": "stream",
     "text": [
      "\u001b[32mcmd42$Helper$TestLast:\u001b[0m\n",
      "\u001b[32mlast\u001b[0m\n",
      "\u001b[32m- should work\u001b[0m\n"
     ]
    }
   ],
   "source": [
    "run(new TestLast(last[Int]))"
   ]
  },
  {
   "cell_type": "markdown",
   "id": "aa26f7a7",
   "metadata": {},
   "source": [
    "### Insertar un elemento al final de una lista"
   ]
  },
  {
   "cell_type": "code",
   "execution_count": 46,
   "id": "71592f9c",
   "metadata": {},
   "outputs": [
    {
     "data": {
      "text/plain": [
       "defined \u001b[32mclass\u001b[39m \u001b[36mTestInsertLast\u001b[39m"
      ]
     },
     "execution_count": 46,
     "metadata": {},
     "output_type": "execute_result"
    }
   ],
   "source": [
    "class TestInsertLast(insertLast: (List[Int], Int) => List[Int]) \n",
    "extends FlatSpec with Matchers{\n",
    "    \"insertLast\" should \"work\" in {\n",
    "        insertLast(List(), 6) shouldBe List(6)\n",
    "        insertLast(List(1), 1) shouldBe List(1,1)\n",
    "        insertLast(List(1,2,3,4), 4) shouldBe List(1,2,3,4,4)\n",
    "    }\n",
    "}"
   ]
  },
  {
   "cell_type": "code",
   "execution_count": 47,
   "id": "1e2cdd6f",
   "metadata": {},
   "outputs": [
    {
     "data": {
      "text/plain": [
       "defined \u001b[32mfunction\u001b[39m \u001b[36minsertLast\u001b[39m"
      ]
     },
     "execution_count": 47,
     "metadata": {},
     "output_type": "execute_result"
    }
   ],
   "source": [
    " def insertLast[A](l: List[A], value: A): List[A] = \n",
    "    l match {\n",
    "        case Nil => value :: Nil\n",
    "        case head :: tail => head :: insertLast(tail, value)\n",
    "    }"
   ]
  },
  {
   "cell_type": "code",
   "execution_count": 48,
   "id": "8935a27a",
   "metadata": {},
   "outputs": [
    {
     "name": "stdout",
     "output_type": "stream",
     "text": [
      "\u001b[32mcmd45$Helper$TestInsertLast:\u001b[0m\n",
      "\u001b[32minsertLast\u001b[0m\n",
      "\u001b[32m- should work\u001b[0m\n"
     ]
    }
   ],
   "source": [
    "run(new TestInsertLast(insertLast[Int]))"
   ]
  },
  {
   "cell_type": "markdown",
   "id": "8ee1a27d",
   "metadata": {},
   "source": [
    "### Invertir una lista"
   ]
  },
  {
   "cell_type": "code",
   "execution_count": 49,
   "id": "9087f846",
   "metadata": {},
   "outputs": [
    {
     "data": {
      "text/plain": [
       "defined \u001b[32mclass\u001b[39m \u001b[36mTestReverse\u001b[39m"
      ]
     },
     "execution_count": 49,
     "metadata": {},
     "output_type": "execute_result"
    }
   ],
   "source": [
    "class TestReverse(reverse: List[Int] => List[Int]) extends FlatSpec with Matchers{\n",
    "    \"reverse\" should \"work\" in {\n",
    "        reverse(List()) shouldBe List()\n",
    "        reverse(List(1)) shouldBe List(1)\n",
    "        reverse(List(1,2,3)) shouldBe List(3,2,1)\n",
    "    }\n",
    "}"
   ]
  },
  {
   "cell_type": "code",
   "execution_count": 54,
   "id": "bfc6b4d4",
   "metadata": {},
   "outputs": [
    {
     "data": {
      "text/plain": [
       "defined \u001b[32mfunction\u001b[39m \u001b[36mreverse\u001b[39m"
      ]
     },
     "execution_count": 54,
     "metadata": {},
     "output_type": "execute_result"
    }
   ],
   "source": [
    "// Implementación usando insertLast (muy ineficiente)\n",
    "def reverse[A](l: List[A]): List[A] = \n",
    "    l match {\n",
    "        case Nil => Nil\n",
    "        case head :: tail => insertLast(reverse(tail), head) // Podemos usar la notación: reverse(tail) :+ head\n",
    "    }"
   ]
  },
  {
   "cell_type": "code",
   "execution_count": 53,
   "id": "fa881489",
   "metadata": {},
   "outputs": [
    {
     "name": "stdout",
     "output_type": "stream",
     "text": [
      "\u001b[32mcmd48$Helper$TestReverse:\u001b[0m\n",
      "\u001b[32mreverse\u001b[0m\n",
      "\u001b[32m- should work\u001b[0m\n"
     ]
    }
   ],
   "source": [
    "run(new TestReverse(reverse[Int]))"
   ]
  },
  {
   "cell_type": "code",
   "execution_count": 58,
   "id": "2ada2789",
   "metadata": {},
   "outputs": [
    {
     "data": {
      "text/plain": [
       "defined \u001b[32mfunction\u001b[39m \u001b[36mreverseTR\u001b[39m"
      ]
     },
     "execution_count": 58,
     "metadata": {},
     "output_type": "execute_result"
    }
   ],
   "source": [
    "// Optimización usando recursión de cola\n",
    "def reverseTR[A](list: List[A]): List[A] = {\n",
    "    def reverseAux(acc: List[A], list: List[A]): List[A] = \n",
    "        list match {\n",
    "            case Nil => acc\n",
    "            case head :: tail => \n",
    "                reverseAux(head :: acc, tail)\n",
    "        }\n",
    "    \n",
    "    reverseAux(Nil, list)\n",
    "}"
   ]
  },
  {
   "cell_type": "code",
   "execution_count": 59,
   "id": "0b9c6ceb",
   "metadata": {},
   "outputs": [
    {
     "name": "stdout",
     "output_type": "stream",
     "text": [
      "\u001b[32mcmd48$Helper$TestReverse:\u001b[0m\n",
      "\u001b[32mreverse\u001b[0m\n",
      "\u001b[32m- should work\u001b[0m\n"
     ]
    }
   ],
   "source": [
    "run(new TestReverse(reverseTR[Int]))"
   ]
  },
  {
   "cell_type": "markdown",
   "id": "72d2835d",
   "metadata": {},
   "source": [
    "### Concatenar dos listas"
   ]
  },
  {
   "cell_type": "code",
   "execution_count": 57,
   "id": "b9d67d4b",
   "metadata": {},
   "outputs": [
    {
     "data": {
      "text/plain": [
       "defined \u001b[32mclass\u001b[39m \u001b[36mTestConcatenate\u001b[39m"
      ]
     },
     "execution_count": 57,
     "metadata": {},
     "output_type": "execute_result"
    }
   ],
   "source": [
    "class TestConcatenate(concatenate: (List[Int], List[Int]) => List[Int]) \n",
    "extends FlatSpec with Matchers{\n",
    "    \"concatenate\" should \"work\" in {\n",
    "        concatenate(List(), List()) shouldBe List()\n",
    "        concatenate(List(1), List()) shouldBe List(1)\n",
    "        concatenate(List(), List(1)) shouldBe List(1)\n",
    "        concatenate(List(1,2,3), List(1,3)) shouldBe List(1,2,3,1,3)\n",
    "        concatenate(List(1,2,3), List(4,5,6)) shouldBe List(1,2,3,4,5,6)\n",
    "    }\n",
    "}"
   ]
  },
  {
   "cell_type": "code",
   "execution_count": 61,
   "id": "ba4e8dc2",
   "metadata": {},
   "outputs": [
    {
     "data": {
      "text/plain": [
       "defined \u001b[32mfunction\u001b[39m \u001b[36mconcatenate\u001b[39m"
      ]
     },
     "execution_count": 61,
     "metadata": {},
     "output_type": "execute_result"
    }
   ],
   "source": [
    "// Implementación con recursión clásica\n",
    "def concatenate[A](l1: List[A], l2: List[A]): List[A] = {\n",
    "    l1 match {\n",
    "        case Nil => l2\n",
    "        case head :: tail => head :: concatenate(tail, l2)\n",
    "    }\n",
    "}"
   ]
  },
  {
   "cell_type": "code",
   "execution_count": 63,
   "id": "e1011e43",
   "metadata": {},
   "outputs": [
    {
     "name": "stdout",
     "output_type": "stream",
     "text": [
      "\u001b[32mcmd56$Helper$TestConcatenate:\u001b[0m\n",
      "\u001b[32mconcatenate\u001b[0m\n",
      "\u001b[32m- should work\u001b[0m\n"
     ]
    }
   ],
   "source": [
    "run(new TestConcatenate(concatenate[Int]))"
   ]
  },
  {
   "cell_type": "code",
   "execution_count": 64,
   "id": "6e6a1200",
   "metadata": {},
   "outputs": [
    {
     "data": {
      "text/plain": [
       "defined \u001b[32mfunction\u001b[39m \u001b[36mconcatenateTR\u001b[39m"
      ]
     },
     "execution_count": 64,
     "metadata": {},
     "output_type": "execute_result"
    }
   ],
   "source": [
    "// Implementación con recursión de cola\n",
    "def concatenateTR[A](list1: List[A], list2: List[A]): List[A] = {\n",
    "\n",
    "    def concAux(acc: List[A], list: List[A]): List[A] = \n",
    "        list match {\n",
    "            case Nil => acc\n",
    "            case head :: tail => \n",
    "                concAux(head :: acc, tail)\n",
    "        }\n",
    "    \n",
    "    concAux(list2, concAux(Nil, list1))\n",
    "}"
   ]
  },
  {
   "cell_type": "code",
   "execution_count": 65,
   "id": "4ba80c13",
   "metadata": {},
   "outputs": [
    {
     "name": "stdout",
     "output_type": "stream",
     "text": [
      "\u001b[32mcmd56$Helper$TestConcatenate:\u001b[0m\n",
      "\u001b[32mconcatenate\u001b[0m\n",
      "\u001b[32m- should work\u001b[0m\n"
     ]
    }
   ],
   "source": [
    "run(new TestConcatenate(concatenateTR[Int]))"
   ]
  },
  {
   "cell_type": "markdown",
   "id": "7c1cf491",
   "metadata": {},
   "source": [
    "## Árboles binarios"
   ]
  },
  {
   "cell_type": "markdown",
   "id": "91ff1cd1",
   "metadata": {},
   "source": [
    "Un arbol se define como una estructura de datos recursiva integrada por un elemento **raiz** y dos nodos hijo llamados **izquierdo** y **derecho**"
   ]
  },
  {
   "cell_type": "markdown",
   "id": "7d9658df",
   "metadata": {},
   "source": [
    "Algebraicamente por tanto podemos definir un árbol binario como: $Arbol= 1 + (HijoIzquierdo * Raíz * HijoDerecho)$"
   ]
  },
  {
   "cell_type": "markdown",
   "id": "cd51974b",
   "metadata": {},
   "source": [
    "Podemos definir el TAD árbol en Scala como sigue:"
   ]
  },
  {
   "cell_type": "code",
   "execution_count": 66,
   "id": "561f80c0",
   "metadata": {},
   "outputs": [
    {
     "data": {
      "text/plain": [
       "defined \u001b[32mclass\u001b[39m \u001b[36mTree\u001b[39m\r\n",
       "defined \u001b[32mclass\u001b[39m \u001b[36mEmpty\u001b[39m\r\n",
       "defined \u001b[32mclass\u001b[39m \u001b[36mNode\u001b[39m"
      ]
     },
     "execution_count": 66,
     "metadata": {},
     "output_type": "execute_result"
    }
   ],
   "source": [
    "// type Tree[A] = 1 + Tree[A] * A * Tree[A]\n",
    "\n",
    "sealed abstract class Tree[A]\n",
    "case class Empty[A]() extends Tree[A]\n",
    "case class Node[A](left: Tree[A], root: A, right: Tree[A]) extends Tree[A]"
   ]
  },
  {
   "cell_type": "markdown",
   "id": "dbb9ee55",
   "metadata": {},
   "source": [
    "Sobre un arbol además podemos efectuar una serie de operaciones"
   ]
  },
  {
   "cell_type": "code",
   "execution_count": 68,
   "id": "716dc629",
   "metadata": {},
   "outputs": [
    {
     "data": {
      "text/plain": [
       "defined \u001b[32mobject\u001b[39m \u001b[36mTree\u001b[39m\r\n",
       "\u001b[32mimport \u001b[39m\u001b[36mTree._\u001b[39m"
      ]
     },
     "execution_count": 68,
     "metadata": {},
     "output_type": "execute_result"
    }
   ],
   "source": [
    "object Tree{\n",
    "    \n",
    "    // Crea un arbol vacio\n",
    "    def void[A]: Tree[A] = \n",
    "        Empty()\n",
    "    \n",
    "    // Crea un nodo hoja\n",
    "    def leaf[A](a: A): Node[A] = \n",
    "        Node(Empty(), a, Empty())\n",
    "    \n",
    "    // Coloca un subárbol como hijo derecho y de raíz a\n",
    "    def right[A](a: A, tree: Tree[A]): Node[A] = \n",
    "        Node(Empty(), a, tree)\n",
    "    \n",
    "    // Coloca un subárbol como hijo izquierdo y de raíz a\n",
    "    def left[A](tree: Tree[A], a: A): Node[A] = \n",
    "        Node(tree, a, Empty())\n",
    "    \n",
    "    // Crea un nodo con raiz a y sus hijos como subárboles\n",
    "    def node[A](left: Tree[A], a: A, right: Tree[A]): Node[A] = \n",
    "        Node(left, a, right)\n",
    "}\n",
    "\n",
    "import Tree._"
   ]
  }
 ],
 "metadata": {
  "kernelspec": {
   "display_name": "Scala",
   "language": "scala",
   "name": "scala"
  },
  "language_info": {
   "codemirror_mode": "text/x-scala",
   "file_extension": ".sc",
   "mimetype": "text/x-scala",
   "name": "scala",
   "nbconvert_exporter": "script",
   "version": "2.13.8"
  }
 },
 "nbformat": 4,
 "nbformat_minor": 5
}
