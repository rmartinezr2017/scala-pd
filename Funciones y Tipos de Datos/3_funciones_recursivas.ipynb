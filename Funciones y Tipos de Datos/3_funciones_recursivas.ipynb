{
 "cells": [
  {
   "cell_type": "markdown",
   "id": "c23a7bca",
   "metadata": {},
   "source": [
    "# Funciones y tipos de datos recursivos"
   ]
  },
  {
   "cell_type": "markdown",
   "id": "e41fd0cb",
   "metadata": {},
   "source": [
    "## Tipos de datos recursivos"
   ]
  },
  {
   "cell_type": "markdown",
   "id": "f83ecc74",
   "metadata": {},
   "source": [
    "### Tipo `List`"
   ]
  },
  {
   "cell_type": "markdown",
   "id": "16f8364c",
   "metadata": {},
   "source": [
    "Una lista es una estructura de datos que representa una secuencia de valores del mismo tipo y de longitud finita. Podemos definirla como sigue:"
   ]
  },
  {
   "cell_type": "markdown",
   "id": "e75bd958",
   "metadata": {},
   "source": [
    "Una lista puede ser:\n",
    "- Una secuencia vacia de elementos\n",
    "- Una secuencia integrada por un primer elemento y otra lista de elementos. Estos conceptos se denominan **cabeza** y **cola** respectivamente."
   ]
  },
  {
   "cell_type": "markdown",
   "id": "a6229900",
   "metadata": {},
   "source": [
    "Así pues, el tipo lista puede ser definido mediante la siguiente equación:"
   ]
  },
  {
   "cell_type": "markdown",
   "id": "b3b39880",
   "metadata": {},
   "source": [
    "Sea $ListaT$ una lista integrada por elementos de tipo $T$. Definimos $ListaT=1+T*ListaT$ tal que $1$ representa la unidad"
   ]
  },
  {
   "cell_type": "markdown",
   "id": "440c2551",
   "metadata": {},
   "source": [
    "Podemos así implementar en Scala la siguiente lista (`List[T]`)"
   ]
  },
  {
   "cell_type": "code",
   "execution_count": 3,
   "id": "f8abd214",
   "metadata": {},
   "outputs": [
    {
     "data": {
      "text/plain": [
       "defined \u001b[32mobject\u001b[39m \u001b[36mStdDefinition\u001b[39m"
      ]
     },
     "execution_count": 3,
     "metadata": {},
     "output_type": "execute_result"
    }
   ],
   "source": [
    "object StdDefinition {\n",
    "    sealed abstract class List[T]\n",
    "    case class NonEmpty[T](head: T, tail: List[T]) extends List[T]\n",
    "    case class Empty[T]() extends List[T]\n",
    "}"
   ]
  },
  {
   "cell_type": "markdown",
   "id": "b8cb04d3",
   "metadata": {},
   "source": [
    "Sin embargo, en Scala las lista vacias son definidas mediante un objeto (`Nil`) y no mediante una clase, de modo que la implementación se moriaría como sigue:"
   ]
  },
  {
   "cell_type": "code",
   "execution_count": 4,
   "id": "e28b72ce",
   "metadata": {},
   "outputs": [
    {
     "data": {
      "text/plain": [
       "defined \u001b[32mobject\u001b[39m \u001b[36mActualDefinition\u001b[39m"
      ]
     },
     "execution_count": 4,
     "metadata": {},
     "output_type": "execute_result"
    }
   ],
   "source": [
    "object ActualDefinition{\n",
    "    sealed abstract class List[+T]\n",
    "    case class ::[T](head: T, tail: List[T]) extends List[T]\n",
    "    case object Nil extends List[Nothing]\n",
    "}"
   ]
  },
  {
   "cell_type": "markdown",
   "id": "e759bb4b",
   "metadata": {},
   "source": [
    "### Azucar sintáctico para listas"
   ]
  },
  {
   "cell_type": "code",
   "execution_count": 1,
   "id": "097753ee",
   "metadata": {},
   "outputs": [
    {
     "data": {
      "text/plain": [
       "\u001b[36ml1\u001b[39m: \u001b[32mList\u001b[39m[\u001b[32mInt\u001b[39m] = \u001b[33mList\u001b[39m(\u001b[32m1\u001b[39m, \u001b[32m2\u001b[39m, \u001b[32m3\u001b[39m)\r\n",
       "\u001b[36ml2\u001b[39m: \u001b[32mList\u001b[39m[\u001b[32mInt\u001b[39m] = \u001b[33mList\u001b[39m(\u001b[32m1\u001b[39m, \u001b[32m2\u001b[39m, \u001b[32m3\u001b[39m)\r\n",
       "\u001b[36ml3\u001b[39m: \u001b[32mList\u001b[39m[\u001b[32mInt\u001b[39m] = \u001b[33mList\u001b[39m(\u001b[32m1\u001b[39m, \u001b[32m2\u001b[39m, \u001b[32m3\u001b[39m)"
      ]
     },
     "execution_count": 1,
     "metadata": {},
     "output_type": "execute_result"
    }
   ],
   "source": [
    "// Podemos escribirlas con una notación clásica\n",
    "val l1: List[Int] = ::(1, ::(2, ::(3, Nil)))\n",
    "\n",
    "// O podemos usar azucar sintáctico\n",
    "val l2: List[Int] = 1 :: 2 :: 3 :: Nil\n",
    "val l3: List[Int] = List(1,2,3)"
   ]
  },
  {
   "cell_type": "markdown",
   "id": "7f1a5b21",
   "metadata": {},
   "source": [
    "Tambien podemos aplicar pattern matching sobre listas para así operar"
   ]
  },
  {
   "cell_type": "code",
   "execution_count": 2,
   "id": "55b08283",
   "metadata": {},
   "outputs": [
    {
     "data": {
      "text/plain": [
       "\u001b[36mres1_0\u001b[39m: \u001b[32mInt\u001b[39m = \u001b[32m1\u001b[39m\r\n",
       "\u001b[36mres1_1\u001b[39m: \u001b[32mInt\u001b[39m = \u001b[32m1\u001b[39m\r\n",
       "\u001b[36mres1_2\u001b[39m: \u001b[32mInt\u001b[39m = \u001b[32m1\u001b[39m"
      ]
     },
     "execution_count": 2,
     "metadata": {},
     "output_type": "execute_result"
    }
   ],
   "source": [
    "// De forma clásica\n",
    "l1 match {\n",
    "    case Nil => 0\n",
    "    case ::(head, tail) => 1\n",
    "}\n",
    "\n",
    "// O con azucar sintáctico\n",
    "l1 match {\n",
    "    case Nil => 0\n",
    "    case head :: tail => 1\n",
    "}\n",
    "\n",
    "l1 match {\n",
    "    case List() => 0\n",
    "    case List(h1, h2, h3) => 1\n",
    "}"
   ]
  },
  {
   "cell_type": "markdown",
   "id": "573a37bf",
   "metadata": {},
   "source": [
    "## Funciones recursivas sobre listas"
   ]
  },
  {
   "cell_type": "markdown",
   "id": "2a26a475",
   "metadata": {},
   "source": [
    "Al hacer definido las listas como una estructura de datos recursiva podemos operar con ellas usando funciones recursivas."
   ]
  },
  {
   "cell_type": "markdown",
   "id": "d7b1abf4",
   "metadata": {},
   "source": [
    "Podemos ejemplificarlo con una función que calcule la longitud de una lista. Vamos a dar una versión iterativa y otra recursiva"
   ]
  },
  {
   "cell_type": "code",
   "execution_count": 6,
   "id": "f4630db9",
   "metadata": {},
   "outputs": [
    {
     "data": {
      "text/plain": [
       "defined \u001b[32mfunction\u001b[39m \u001b[36mlengthI\u001b[39m\r\n",
       "defined \u001b[32mfunction\u001b[39m \u001b[36mlengthR\u001b[39m"
      ]
     },
     "execution_count": 6,
     "metadata": {},
     "output_type": "execute_result"
    }
   ],
   "source": [
    "//Implementacion iterativa\n",
    "def lengthI[T](list: List[T]): Int = {\n",
    "    var acc: Int = 0\n",
    "    var aux: List[T] = list\n",
    "    while (aux != Nil){\n",
    "        // Esto no se debe hacer...\n",
    "        aux = aux.asInstanceOf[::[T]].tail\n",
    "        acc += 1\n",
    "    }\n",
    "    acc\n",
    "}\n",
    "\n",
    "// Implementación resursiva\n",
    "def lengthR[T](list: List[T]): Int =\n",
    "    list match {\n",
    "        case Nil => 0\n",
    "        case _ :: tail => 1 + lengthR(tail)\n",
    "    }"
   ]
  },
  {
   "cell_type": "code",
   "execution_count": 7,
   "id": "1564665e",
   "metadata": {},
   "outputs": [
    {
     "data": {
      "text/plain": [
       "\u001b[36mres6_0\u001b[39m: \u001b[32mInt\u001b[39m = \u001b[32m0\u001b[39m\r\n",
       "\u001b[36mres6_1\u001b[39m: \u001b[32mInt\u001b[39m = \u001b[32m4\u001b[39m\r\n",
       "\u001b[36mres6_2\u001b[39m: \u001b[32mInt\u001b[39m = \u001b[32m0\u001b[39m\r\n",
       "\u001b[36mres6_3\u001b[39m: \u001b[32mInt\u001b[39m = \u001b[32m4\u001b[39m"
      ]
     },
     "execution_count": 7,
     "metadata": {},
     "output_type": "execute_result"
    }
   ],
   "source": [
    "// Resultados usando la versión iterativa\n",
    "lengthI(List())\n",
    "lengthI(List(1,2,3,4))\n",
    "\n",
    "// Resultados usando la versión recursiva\n",
    "lengthR(List())\n",
    "lengthR(List(1,2,3,4))"
   ]
  },
  {
   "cell_type": "markdown",
   "id": "6e42790d",
   "metadata": {},
   "source": [
    "Algunas observaciones:\n",
    "- Las implementaciones recursivas se basan en un patrón de divide y vencerás por el que construimos la función basandonos en los diferentes tipos que vamos encontrando en cada caso. Este método facilita la implementación de una función en comparación con su versión iterativa\n",
    "- Sin embargo la recursión es problemática para listas de muchos elementos ya que colapsan la pila del sistema"
   ]
  },
  {
   "cell_type": "markdown",
   "id": "1b148d5f",
   "metadata": {},
   "source": [
    "### Funciones de recursión de cola"
   ]
  },
  {
   "cell_type": "markdown",
   "id": "5508f613",
   "metadata": {},
   "source": [
    "Con el fin de solventar el problema del colapso de la pila del sistema, podemos usar una implementación basada en la recursión de cola. La idea principal es usar funciones auxiliares con el fin de no arrastrar las variables locales que tenemos siempre dentro de la función."
   ]
  },
  {
   "cell_type": "code",
   "execution_count": null,
   "id": "8d2b29f0",
   "metadata": {},
   "outputs": [],
   "source": []
  }
 ],
 "metadata": {
  "kernelspec": {
   "display_name": "Scala",
   "language": "scala",
   "name": "scala"
  },
  "language_info": {
   "codemirror_mode": "text/x-scala",
   "file_extension": ".sc",
   "mimetype": "text/x-scala",
   "name": "scala",
   "nbconvert_exporter": "script",
   "version": "2.13.8"
  }
 },
 "nbformat": 4,
 "nbformat_minor": 5
}
