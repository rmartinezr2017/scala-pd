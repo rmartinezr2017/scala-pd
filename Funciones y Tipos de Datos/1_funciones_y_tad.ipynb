{
 "cells": [
  {
   "cell_type": "markdown",
   "id": "e9eddb43",
   "metadata": {},
   "source": [
    "# FUNCIONES"
   ]
  },
  {
   "cell_type": "markdown",
   "id": "c94c10b5",
   "metadata": {},
   "source": [
    "## Funciones puras:"
   ]
  },
  {
   "cell_type": "markdown",
   "id": "d5890dfb",
   "metadata": {},
   "source": [
    "Buscamos definir funciones que se limiten simplemente a su comportamiento matemático, es decir, recibir valores de entrada, operar con ellos, y devolver una salida. Cualquier función que realice más allá de ese comportamiento se define como una función impura."
   ]
  },
  {
   "cell_type": "code",
   "execution_count": 1,
   "id": "304f5003",
   "metadata": {},
   "outputs": [
    {
     "data": {
      "text/plain": [
       "defined \u001b[32mfunction\u001b[39m \u001b[36mpureAdd\u001b[39m\r\n",
       "defined \u001b[32mfunction\u001b[39m \u001b[36mimpureAdd\u001b[39m"
      ]
     },
     "execution_count": 1,
     "metadata": {},
     "output_type": "execute_result"
    }
   ],
   "source": [
    "// Ejemplo función pura\n",
    "def pureAdd(v1: Int, v2: Int): Int = {\n",
    "    v1 + v2;\n",
    "}\n",
    "\n",
    "// Ejemplo función impura\n",
    "def impureAdd(v1: Int, v2: Int): Int = {\n",
    "    var result: Int = v1 + v2;\n",
    "    println(\"Resultado: \" + result);\n",
    "    return result;\n",
    "}"
   ]
  },
  {
   "cell_type": "code",
   "execution_count": 2,
   "id": "0a8465f7",
   "metadata": {
    "scrolled": true
   },
   "outputs": [
    {
     "name": "stdout",
     "output_type": "stream",
     "text": [
      "Resultado: 5\r\n"
     ]
    },
    {
     "data": {
      "text/plain": [
       "\u001b[36mres1_0\u001b[39m: \u001b[32mInt\u001b[39m = \u001b[32m5\u001b[39m\r\n",
       "\u001b[36mres1_1\u001b[39m: \u001b[32mInt\u001b[39m = \u001b[32m5\u001b[39m"
      ]
     },
     "execution_count": 2,
     "metadata": {},
     "output_type": "execute_result"
    }
   ],
   "source": [
    "pureAdd(2,3)\n",
    "impureAdd(2,3)"
   ]
  },
  {
   "cell_type": "markdown",
   "id": "9efdd71a",
   "metadata": {},
   "source": [
    "## Modularización:"
   ]
  },
  {
   "cell_type": "markdown",
   "id": "a14fa18d",
   "metadata": {},
   "source": [
    "Las funciones tambien nos permiten modularizar fragmentos de código, pudiendo ser usados posteriormente sin la necesidad de repetir código"
   ]
  },
  {
   "cell_type": "code",
   "execution_count": 3,
   "id": "5af47dad",
   "metadata": {},
   "outputs": [
    {
     "data": {
      "text/plain": [
       "\u001b[36mconfig\u001b[39m: \u001b[32mMap\u001b[39m[\u001b[32mString\u001b[39m, \u001b[32mString\u001b[39m] = \u001b[33mMap\u001b[39m(\n",
       "  \u001b[32m\"URL\"\u001b[39m -> \u001b[32m\"www.urldeprueba.com\"\u001b[39m,\n",
       "  \u001b[32m\"PORT\"\u001b[39m -> \u001b[32m\"8021\"\u001b[39m\n",
       ")\r\n",
       "\u001b[36mport\u001b[39m: \u001b[32mString\u001b[39m = \u001b[32m\"www.urldeprueba.com\"\u001b[39m\r\n",
       "\u001b[36murl\u001b[39m: \u001b[32mString\u001b[39m = \u001b[32m\"8021\"\u001b[39m\r\n",
       "\u001b[36mpath\u001b[39m: \u001b[32mString\u001b[39m = \u001b[32m\"/usr/desktop/server\"\u001b[39m"
      ]
     },
     "execution_count": 3,
     "metadata": {},
     "output_type": "execute_result"
    }
   ],
   "source": [
    "// Ejemplo de un programa sin modularización\n",
    "\n",
    "// Definimos un mapa con dos valores escritos por defecto\n",
    "val config: Map[String, String] = \n",
    "    Map(\n",
    "        \"URL\" -> \"www.urldeprueba.com\",\n",
    "        \"PORT\" -> \"8021\"\n",
    "    )\n",
    "\n",
    "// Ahora pedimos esos valores de modo que, si encontramos la clave, se muestra su valor asociado,\n",
    "// si no existe, mostraremos un valor por defecto\n",
    "\n",
    "val port: String = config.get(\"URL\") match {\n",
    "    case Some(u) => u\n",
    "    case None => \"www.default.com\"\n",
    "}\n",
    "\n",
    "val url: String = config.get(\"PORT\") match {\n",
    "    case Some(p) => p\n",
    "    case None => \"8080\"\n",
    "}\n",
    "\n",
    "val path: String = config.get(\"PATH\") match {\n",
    "    case Some(pt) => pt\n",
    "    case None => \"/usr/desktop/server\"\n",
    "}"
   ]
  },
  {
   "cell_type": "markdown",
   "id": "302547f5",
   "metadata": {},
   "source": [
    "Las consultas anteriores la mapa podrián haber sido modelizadas mediante un único método:"
   ]
  },
  {
   "cell_type": "code",
   "execution_count": 4,
   "id": "cd2b6d17",
   "metadata": {},
   "outputs": [
    {
     "data": {
      "text/plain": [
       "defined \u001b[32mfunction\u001b[39m \u001b[36mgetMapValue\u001b[39m\r\n",
       "\u001b[36mres3_1\u001b[39m: \u001b[32mString\u001b[39m = \u001b[32m\"www.urldeprueba.com\"\u001b[39m\r\n",
       "\u001b[36mres3_2\u001b[39m: \u001b[32mString\u001b[39m = \u001b[32m\"8021\"\u001b[39m\r\n",
       "\u001b[36mres3_3\u001b[39m: \u001b[32mString\u001b[39m = \u001b[32m\"/usr/desktop/server\"\u001b[39m"
      ]
     },
     "execution_count": 4,
     "metadata": {},
     "output_type": "execute_result"
    }
   ],
   "source": [
    "def getMapValue(map: Map[String, String], key: String, default: String): String = {\n",
    "    map.get(key) match {\n",
    "        case Some(v) => v\n",
    "        case None => default\n",
    "    }\n",
    "}\n",
    "\n",
    "getMapValue(config, \"URL\", \"www.default.com\")\n",
    "getMapValue(config, \"PORT\", \"8080\")\n",
    "getMapValue(config, \"PATH\", \"/usr/desktop/server\")"
   ]
  },
  {
   "cell_type": "markdown",
   "id": "19f6d80c",
   "metadata": {},
   "source": [
    "## Funciones como métodos"
   ]
  },
  {
   "cell_type": "markdown",
   "id": "f4da214b",
   "metadata": {},
   "source": [
    "Podemos definir las funciones como métodos dentro de **clases**, **objetos**, o **traits**"
   ]
  },
  {
   "cell_type": "code",
   "execution_count": 5,
   "id": "93aeddc8",
   "metadata": {},
   "outputs": [
    {
     "data": {
      "text/plain": [
       "defined \u001b[32mobject\u001b[39m \u001b[36mcalculator\u001b[39m\r\n",
       "\u001b[36mres4_1\u001b[39m: \u001b[32mInt\u001b[39m = \u001b[32m9\u001b[39m\r\n",
       "\u001b[36mres4_2\u001b[39m: \u001b[32mInt\u001b[39m = \u001b[32m-2\u001b[39m\r\n",
       "\u001b[36mres4_3\u001b[39m: \u001b[32mInt\u001b[39m = \u001b[32m24\u001b[39m\r\n",
       "\u001b[36mres4_4\u001b[39m: \u001b[32mInt\u001b[39m = \u001b[32m2\u001b[39m"
      ]
     },
     "execution_count": 5,
     "metadata": {},
     "output_type": "execute_result"
    }
   ],
   "source": [
    "object calculator {\n",
    "    \n",
    "    def add(v1: Int, v2: Int): Int = {\n",
    "        if (v1 >= 0 && v2 >= 0){\n",
    "            v1 + v2\n",
    "        } else 0;\n",
    "    }\n",
    "    \n",
    "    def sub(v1: Int, v2: Int): Int = {\n",
    "        if (v1 >= 0 && v2 >= 0){\n",
    "            v1 - v2;\n",
    "        } else 0;\n",
    "    }\n",
    "    \n",
    "    def mult(v1: Int, v2: Int): Int = {\n",
    "        v1 * v2;  \n",
    "    }\n",
    "    \n",
    "    def div(v1: Int, v2: Int): Int = {\n",
    "        if (v2 != 0){\n",
    "            v1 / v2;\n",
    "        } else 0;\n",
    "    }\n",
    "}\n",
    "\n",
    "calculator.add(4,5)\n",
    "calculator.sub(4,6)\n",
    "calculator.mult(4,6)\n",
    "calculator.div(12,6)"
   ]
  },
  {
   "cell_type": "markdown",
   "id": "1e49b685",
   "metadata": {},
   "source": [
    "### Funciones como valores"
   ]
  },
  {
   "cell_type": "markdown",
   "id": "01d52688",
   "metadata": {},
   "source": [
    "Las funciones también pueden ser definidas como valores, es decir, como objetos, de modo que así permitimos que estas puedan recibir otras funciones como argumentos o devolver funciones como resultados. A estas funciones se las denomina **funciones de orden superior**.\n",
    "\n",
    "A la hora de definir funciones como valor debemos tener en cuenta la diferencia entre **variables**, **tipos** y **valores**."
   ]
  },
  {
   "cell_type": "code",
   "execution_count": 6,
   "id": "a3360db9",
   "metadata": {},
   "outputs": [
    {
     "data": {
      "text/plain": [
       "\u001b[36mi\u001b[39m: \u001b[32mInt\u001b[39m = \u001b[32m3\u001b[39m\r\n",
       "\u001b[36ms\u001b[39m: \u001b[32mString\u001b[39m = \u001b[32m\"Hola\"\u001b[39m\r\n",
       "\u001b[36mb\u001b[39m: \u001b[32mBoolean\u001b[39m = \u001b[32mtrue\u001b[39m"
      ]
     },
     "execution_count": 6,
     "metadata": {},
     "output_type": "execute_result"
    }
   ],
   "source": [
    "val i: Int = 3  // variable -> i || tipo -> Int || valor -> 3\n",
    "val s: String = \"Hola\"  // variable -> s || tipo -> String || valor -> \"Hola\"\n",
    "val b: Boolean = true   // variable -> b || tipo -> Boolean || valor -> true"
   ]
  },
  {
   "cell_type": "markdown",
   "id": "87210138",
   "metadata": {},
   "source": [
    "Definimos a continuación unas funciones, primero como **función método** y después como **función valor**"
   ]
  },
  {
   "cell_type": "code",
   "execution_count": 7,
   "id": "2f826f47",
   "metadata": {},
   "outputs": [
    {
     "data": {
      "text/plain": [
       "defined \u001b[32mfunction\u001b[39m \u001b[36madd\u001b[39m\r\n",
       "defined \u001b[32mfunction\u001b[39m \u001b[36msub\u001b[39m\r\n",
       "\u001b[36maddV\u001b[39m: (\u001b[32mInt\u001b[39m, \u001b[32mInt\u001b[39m) => \u001b[32mInt\u001b[39m = ammonite.$sess.cmd6$Helper$$Lambda$2079/0x00000008013a6510@3edfe5b1\r\n",
       "\u001b[36msubV\u001b[39m: (\u001b[32mInt\u001b[39m, \u001b[32mInt\u001b[39m) => \u001b[32mInt\u001b[39m = ammonite.$sess.cmd6$Helper$$Lambda$2080/0x00000008013a6ac0@53a8fd8c\r\n",
       "\u001b[36mres6_4\u001b[39m: \u001b[32mInt\u001b[39m = \u001b[32m9\u001b[39m\r\n",
       "\u001b[36mres6_5\u001b[39m: \u001b[32mInt\u001b[39m = \u001b[32m1\u001b[39m\r\n",
       "\u001b[36mres6_6\u001b[39m: \u001b[32mInt\u001b[39m = \u001b[32m9\u001b[39m\r\n",
       "\u001b[36mres6_7\u001b[39m: \u001b[32mInt\u001b[39m = \u001b[32m1\u001b[39m"
      ]
     },
     "execution_count": 7,
     "metadata": {},
     "output_type": "execute_result"
    }
   ],
   "source": [
    "// FUNCIONES MÉTODO\n",
    "def add(v1: Int, v2: Int): Int = \n",
    "    v1 + v2\n",
    "\n",
    "def sub(v1: Int, v2: Int): Int = \n",
    "    v1 - v2\n",
    "\n",
    "\n",
    "// FUNCIONES VALOR\n",
    "val addV: (Int, Int) => Int = // Tipo de la función -> (Int, Int) => Int\n",
    "    (v1: Int, v2: Int) => v1 + v2 // Valores de la función -> (v1: Int, v2: Int) => v1 + v2 || Tipo -> = tipo de la función\n",
    "\n",
    "val subV: (Int, Int) => Int = // Tipo de la función -> (Int, Int) => Int\n",
    "    (v1: Int, v2: Int) => v1 - v2 // Valores de la función -> (v1: Int, v2: Int) => v1 - v2 || Tipo -> = tipo de la función\n",
    "\n",
    "\n",
    "add(5,4)\n",
    "sub(5,4)\n",
    "\n",
    "addV(5,4)\n",
    "subV(5,4)"
   ]
  },
  {
   "cell_type": "markdown",
   "id": "7ca062b7",
   "metadata": {},
   "source": [
    "Como puede apreciarse, toda función valor viene determianda por el **tipo de la función** y los **valores de la función**.\n",
    "De este modo pueden diferenciarse dos elementos en las funciones valor:\n",
    "- **Input arguments**: los argumentos de entrada definen nuevas variables del entorno con las que posteriormente se operará\n",
    "- **Body**: define el comportamiento de la función, realizando un cómputo con las variables que fueron pasadas por los argumentos definiendo así el valor que se retornará\n",
    "\n",
    "A las funciones valor se las conoce como **expresiones lambda**"
   ]
  },
  {
   "cell_type": "markdown",
   "id": "dccef4c9",
   "metadata": {},
   "source": [
    "Podemos usar, como se habia mencionado, las funciones valor como argumentos de entrada para otras funciones:"
   ]
  },
  {
   "cell_type": "code",
   "execution_count": 8,
   "id": "d54cd1fe",
   "metadata": {},
   "outputs": [
    {
     "data": {
      "text/plain": [
       "defined \u001b[32mfunction\u001b[39m \u001b[36mcall\u001b[39m\r\n",
       "\u001b[36mres7_1\u001b[39m: \u001b[32mInt\u001b[39m = \u001b[32m9\u001b[39m\r\n",
       "\u001b[36mres7_2\u001b[39m: \u001b[32mInt\u001b[39m = \u001b[32m-1\u001b[39m\r\n",
       "\u001b[36mres7_3\u001b[39m: \u001b[32mInt\u001b[39m = \u001b[32m9\u001b[39m\r\n",
       "\u001b[36mres7_4\u001b[39m: \u001b[32mInt\u001b[39m = \u001b[32m-1\u001b[39m"
      ]
     },
     "execution_count": 8,
     "metadata": {},
     "output_type": "execute_result"
    }
   ],
   "source": [
    "// Definimos la función call como un función que recibe como argumentos:\n",
    "// - Una función de tipo (Int, Int) => Int\n",
    "// - Dos valores de tipo Int para operar con la función\n",
    "def call(intInt2Int: (Int, Int) => Int, v1: Int, v2: Int): Int =\n",
    "    intInt2Int(v1, v2)\n",
    "\n",
    "// Llamamos a la función call con las FUNCIONES VALOR que habiamos declarado anteriormente pasandolas como primer parámetro\n",
    "call(addV, 4, 5)\n",
    "call(subV, 4, 5)\n",
    "\n",
    "// También podemos pasar una FUNCIÓN MÉTODO que automaticamente es convertida y\n",
    "// considerada como FUNCIÓN VALOR dentro de la función call\n",
    "call(add, 4, 5)\n",
    "call(sub, 4, 5)"
   ]
  },
  {
   "cell_type": "markdown",
   "id": "82c443d5",
   "metadata": {},
   "source": [
    "### Azucar sintáctico para funciones valor"
   ]
  },
  {
   "cell_type": "markdown",
   "id": "c0938be3",
   "metadata": {},
   "source": [
    "Podemos obviar diferentes aspectos a la hora de declarar funciones valor, de modo que su implementación queda simplificada. Entre esos aspectos, podemos omitir:\n",
    "- **Los tipos de las entradas**: de modo que Scala los infiere\n",
    "- **Uso de variables mudas**: definiendo una variable mediante el caracter '_' de modo que no se tendrá en cuenta si ha sido declarada"
   ]
  },
  {
   "cell_type": "code",
   "execution_count": 9,
   "id": "e4a460ec",
   "metadata": {},
   "outputs": [
    {
     "data": {
      "text/plain": [
       "\u001b[36maddV\u001b[39m: (\u001b[32mInt\u001b[39m, \u001b[32mInt\u001b[39m) => \u001b[32mInt\u001b[39m = ammonite.$sess.cmd8$Helper$$Lambda$2098/0x00000008013ae518@1e858a34\r\n",
       "\u001b[36maddVSugar\u001b[39m: (\u001b[32mInt\u001b[39m, \u001b[32mInt\u001b[39m) => \u001b[32mInt\u001b[39m = ammonite.$sess.cmd8$Helper$$Lambda$2099/0x00000008013aeac8@43fbe7fd\r\n",
       "\u001b[36mres8_2\u001b[39m: \u001b[32mInt\u001b[39m = \u001b[32m9\u001b[39m\r\n",
       "\u001b[36mres8_3\u001b[39m: \u001b[32mInt\u001b[39m = \u001b[32m9\u001b[39m"
      ]
     },
     "execution_count": 9,
     "metadata": {},
     "output_type": "execute_result"
    }
   ],
   "source": [
    "// Ejemplo de aplicación de azucar sintáctico para la declaración de una función valor\n",
    "val addV: (Int, Int) => Int =\n",
    "    (v1: Int, v2: Int) => v1 + v2\n",
    "\n",
    "// Su declaración puede ser transformada...\n",
    "val addVSugar: (Int, Int) => Int =\n",
    "    _ + _\n",
    "\n",
    "// Ambas tienen el mismo comportamiento\n",
    "addV(4,5)\n",
    "addVSugar(4,5)"
   ]
  },
  {
   "cell_type": "markdown",
   "id": "683aa1fd",
   "metadata": {},
   "source": [
    "### Currificación de funciones"
   ]
  },
  {
   "cell_type": "markdown",
   "id": "b0ddf58a",
   "metadata": {},
   "source": [
    "La idea principal es intentar crear funciones valor que reciban varios parámetros de entrada de modo que a la hora de ser llamadas, estas lo sean como si fuese una función de un único parámetro. Esto lo conseguiremos implementando una función de un argumento que devuelve otra función de un argumento de modo que operaremos con ella."
   ]
  },
  {
   "cell_type": "code",
   "execution_count": 10,
   "id": "7c7ed57d",
   "metadata": {},
   "outputs": [
    {
     "data": {
      "text/plain": [
       "\u001b[36maddVSugar_\u001b[39m: (\u001b[32mInt\u001b[39m, \u001b[32mInt\u001b[39m) => \u001b[32mInt\u001b[39m = ammonite.$sess.cmd9$Helper$$Lambda$2129/0x00000008013b11f0@7e871056\r\n",
       "\u001b[36maddCurry\u001b[39m: \u001b[32mInt\u001b[39m => \u001b[32mInt\u001b[39m => \u001b[32mInt\u001b[39m = ammonite.$sess.cmd9$Helper$$Lambda$2130/0x00000008013b17a0@1c8ba03e\r\n",
       "\u001b[36mres9_2\u001b[39m: \u001b[32mInt\u001b[39m => \u001b[32mInt\u001b[39m = ammonite.$sess.cmd9$Helper$$Lambda$2131/0x00000008013b1b50@83b3205\r\n",
       "\u001b[36mres9_3\u001b[39m: \u001b[32mInt\u001b[39m = \u001b[32m9\u001b[39m\r\n",
       "defined \u001b[32mfunction\u001b[39m \u001b[36maddMCurry\u001b[39m\r\n",
       "\u001b[36mres9_5\u001b[39m: \u001b[32mInt\u001b[39m = \u001b[32m9\u001b[39m"
      ]
     },
     "execution_count": 10,
     "metadata": {},
     "output_type": "execute_result"
    }
   ],
   "source": [
    "// Función valor declarada de forma estandar (usando azucar sintáctico)\n",
    "val addVSugar_ : (Int, Int) => Int = \n",
    "    _ + _\n",
    "\n",
    "//Podemos convertirla a su versión currificada...\n",
    "val addCurry: Int => (Int => Int) = // El (Int, Int) puede ser obviado y transformado simplemente en Int.\n",
    "    (a: Int) => (b: Int) => a + b : Int\n",
    "\n",
    "// La función que devolvemos primeramente será...\n",
    "addCurry(4): (Int => Int)\n",
    "\n",
    "// A continuación, llamamos a esta función con el segundo parámetro obteniendo finalmente el resultado\n",
    "addCurry(4)(5)\n",
    "\n",
    "//Análogamente podemos currificar un FUNCIÓN MÉTODO mediante una lista múltiple de parámetros...\n",
    "def addMCurry(v1: Int)(v2: Int): Int = \n",
    "    v1 + v2\n",
    "\n",
    "// Puede llamarse igual que a una FUNCIÓN VALOR CURRIFICADA\n",
    "addMCurry(4)(5)"
   ]
  },
  {
   "cell_type": "markdown",
   "id": "174d9169",
   "metadata": {},
   "source": [
    "### Composición de funciones"
   ]
  },
  {
   "cell_type": "markdown",
   "id": "f7bbeef0",
   "metadata": {},
   "source": [
    "Podemos construir funciones usando otras funciones de modo que podemos concatenarlas realizando una composición. Este procedimiento ayuda a la modularización."
   ]
  },
  {
   "cell_type": "code",
   "execution_count": 11,
   "id": "cceec136",
   "metadata": {
    "scrolled": true
   },
   "outputs": [
    {
     "data": {
      "text/plain": [
       "defined \u001b[32mfunction\u001b[39m \u001b[36mstringLengthIsEven\u001b[39m\r\n",
       "defined \u001b[32mfunction\u001b[39m \u001b[36mstringLenght\u001b[39m\r\n",
       "defined \u001b[32mfunction\u001b[39m \u001b[36misEven\u001b[39m\r\n",
       "defined \u001b[32mfunction\u001b[39m \u001b[36mcomposition\u001b[39m"
      ]
     },
     "execution_count": 11,
     "metadata": {},
     "output_type": "execute_result"
    }
   ],
   "source": [
    "// Creamos una función que implementa el comportamiento de varias funciones a la vez...\n",
    "// En este caso, la función implementa el comportamiento de conseguir la logitud de un string y de verificar si un número de par\n",
    "def stringLengthIsEven: String => Boolean =\n",
    "    (s: String) => s.length % 2 == 0\n",
    "\n",
    "// Podemos definir dos nuevas funciones con comportamiento individual\n",
    "def stringLenght: String => Int = \n",
    "    (s: String) => s.length\n",
    "\n",
    "def isEven: Int => Boolean =\n",
    "    (n: Int) => n % 2 == 0\n",
    "\n",
    "// Con estas dos funciones podemos definir el comportamiento de una funcion de composición del estilo (String => Int) => Boolean\n",
    "def composition(f2: Int => Boolean, f1: String => Int): String => Boolean =\n",
    "    (s: String) => f2(f1(s))"
   ]
  },
  {
   "cell_type": "markdown",
   "id": "6b0da042",
   "metadata": {},
   "source": [
    "Podemos redefinir el comportamiento de las funciones usando la composición"
   ]
  },
  {
   "cell_type": "code",
   "execution_count": 12,
   "id": "46c29308",
   "metadata": {},
   "outputs": [
    {
     "data": {
      "text/plain": [
       "\u001b[36mstringLengthIsEven\u001b[39m: \u001b[32mString\u001b[39m => \u001b[32mBoolean\u001b[39m = ammonite.$sess.cmd10$Helper$$Lambda$2139/0x00000008013b9600@3e63acbe"
      ]
     },
     "execution_count": 12,
     "metadata": {},
     "output_type": "execute_result"
    }
   ],
   "source": [
    "// De este modo, la primera función resulta de la forma...\n",
    "val stringLengthIsEven: String => Boolean =\n",
    "    composition(isEven, stringLenght)"
   ]
  },
  {
   "cell_type": "markdown",
   "id": "392ff400",
   "metadata": {},
   "source": [
    "La función composición ya viene definida por defecto en Scala, de modo que podemos aplicarla como sigue"
   ]
  },
  {
   "cell_type": "code",
   "execution_count": 13,
   "id": "a77cb2ee",
   "metadata": {},
   "outputs": [
    {
     "data": {
      "text/plain": [
       "\u001b[36mstringLengthIsEvenDotCompose\u001b[39m: \u001b[32mString\u001b[39m => \u001b[32mBoolean\u001b[39m = scala.Function1$$Lambda$2142/0x00000008013b2770@9ee5858\r\n",
       "\u001b[36mstringLengthIsEvenCompose\u001b[39m: \u001b[32mString\u001b[39m => \u001b[32mBoolean\u001b[39m = scala.Function1$$Lambda$2142/0x00000008013b2770@284e8003\r\n",
       "\u001b[36mstringLengthIsEvenAndThen\u001b[39m: \u001b[32mString\u001b[39m => \u001b[32mBoolean\u001b[39m = scala.Function1$$Lambda$693/0x00000008010ffa40@4f8d7618"
      ]
     },
     "execution_count": 13,
     "metadata": {},
     "output_type": "execute_result"
    }
   ],
   "source": [
    "// Usando f.compose(h)\n",
    "val stringLengthIsEvenDotCompose: String => Boolean =\n",
    "    isEven.compose(stringLenght)\n",
    "\n",
    "// Usando la notación infija compose\n",
    "val stringLengthIsEvenCompose: String => Boolean =\n",
    "    isEven compose stringLenght\n",
    "\n",
    "// Usando andThen\n",
    "val stringLengthIsEvenAndThen: String => Boolean =\n",
    "    stringLenght andThen isEven"
   ]
  },
  {
   "cell_type": "markdown",
   "id": "28c91530",
   "metadata": {},
   "source": [
    "A la hora de definir la composición, podemos hacerlo para tipos genéricos"
   ]
  },
  {
   "cell_type": "code",
   "execution_count": 14,
   "id": "79ee6acc",
   "metadata": {},
   "outputs": [
    {
     "data": {
      "text/plain": [
       "defined \u001b[32mfunction\u001b[39m \u001b[36mgenericComposition\u001b[39m\r\n",
       "defined \u001b[32mfunction\u001b[39m \u001b[36mgenericCompositionCurry\u001b[39m\r\n",
       "\u001b[36mstringLengthIsEvenGenericComposition\u001b[39m: \u001b[32mString\u001b[39m => \u001b[32mBoolean\u001b[39m = ammonite.$sess.cmd13$Helper$$Lambda$2156/0x00000008013bb018@6572a538\r\n",
       "\u001b[36mstringLengthIsEvenGenericCompositionCurry\u001b[39m: \u001b[32mString\u001b[39m => \u001b[32mBoolean\u001b[39m = ammonite.$sess.cmd13$Helper$$Lambda$2159/0x00000008013bbb38@4df52981"
      ]
     },
     "execution_count": 14,
     "metadata": {},
     "output_type": "execute_result"
    }
   ],
   "source": [
    "// Definición de composición genérica\n",
    "def genericComposition[A,B,C](f2: B => C, f1: A => B): A => C =\n",
    "    (a: A) => f2(f1(a))\n",
    "\n",
    "// Definición de composición genérica currificada\n",
    "def genericCompositionCurry[A,B,C]: (B => C) => (A => B) => A => C =\n",
    "    f2 => f1 => (a: A) => f2(f1(a))\n",
    "\n",
    "// De este modo, podemos redefinir otra vez la función del principio\n",
    "val stringLengthIsEvenGenericComposition: String => Boolean =\n",
    "    genericComposition(isEven, stringLenght)\n",
    "\n",
    "val stringLengthIsEvenGenericCompositionCurry: String => Boolean =\n",
    "    genericCompositionCurry(isEven)(stringLenght)"
   ]
  },
  {
   "cell_type": "markdown",
   "id": "44e00c42",
   "metadata": {},
   "source": [
    "Finalmente, podemos hablar del concepto de **función identidad**, de modo que, sea cual sea la función que elijamos para componer con la identidad, el resultado siempre será la función elegida"
   ]
  },
  {
   "cell_type": "code",
   "execution_count": 15,
   "id": "56feb9b9",
   "metadata": {},
   "outputs": [
    {
     "data": {
      "text/plain": [
       "defined \u001b[32mfunction\u001b[39m \u001b[36midentity\u001b[39m\r\n",
       "defined \u001b[32mfunction\u001b[39m \u001b[36midentity\u001b[39m"
      ]
     },
     "execution_count": 15,
     "metadata": {},
     "output_type": "execute_result"
    }
   ],
   "source": [
    "// Definición de la función identidad\n",
    "def identity[A](a: A): A =\n",
    "    a\n",
    "\n",
    "// Podemos implementarla también con expresiones lambda\n",
    "def identity[A]: A => A =\n",
    "    (a: A) => a"
   ]
  },
  {
   "cell_type": "markdown",
   "id": "b4928df0",
   "metadata": {},
   "source": [
    "### Funciones representadas como valores"
   ]
  },
  {
   "cell_type": "markdown",
   "id": "b2be2aa1",
   "metadata": {},
   "source": [
    "Las funciones de tipo A => B son azucar sintáctico del tipo Function1\\[A,B\\], así como en extensión, los tipos A => B => C lo son del tipo Function2\\[A,B,C\\] y así sucesivamente. De este modo, las funciones son vistas como **objetos**, es decir, instancias de las clases (tipos) que se han mencionado anteriormente"
   ]
  },
  {
   "cell_type": "code",
   "execution_count": 16,
   "id": "e4ecd101",
   "metadata": {},
   "outputs": [
    {
     "data": {
      "text/plain": [
       "\u001b[36maddOneV\u001b[39m: \u001b[32mInt\u001b[39m => \u001b[32mInt\u001b[39m = <function1>\r\n",
       "\u001b[36mres15_1\u001b[39m: \u001b[32mInt\u001b[39m = \u001b[32m6\u001b[39m\r\n",
       "\u001b[36mres15_2\u001b[39m: \u001b[32mInt\u001b[39m = \u001b[32m6\u001b[39m"
      ]
     },
     "execution_count": 16,
     "metadata": {},
     "output_type": "execute_result"
    }
   ],
   "source": [
    "// Redefinimos el comportamiento de la función addOneV como azucar sintáctico (instancia) de Function1[Int, Int]\n",
    "val addOneV: Function1[Int, Int] = new Function1[Int, Int]{\n",
    "    def apply(a: Int): Int = \n",
    "        a + 1\n",
    "}\n",
    "\n",
    "// De este modo podemos llamar a la función mediante su método proveniente de la clase a la que pertenece\n",
    "addOneV.apply(5)\n",
    "\n",
    "// O también con una llamada a la propia función haciendo uso del azucar sintáctico\n",
    "addOneV(5)"
   ]
  },
  {
   "cell_type": "markdown",
   "id": "0d06c478",
   "metadata": {},
   "source": [
    "# Tipos Algebraicos de Datos"
   ]
  },
  {
   "cell_type": "markdown",
   "id": "9cf542ff",
   "metadata": {},
   "source": [
    "## Tipo producto"
   ]
  },
  {
   "cell_type": "markdown",
   "id": "928a22cd",
   "metadata": {},
   "source": [
    "Sean $T_1$ y $T_2$ dos elementos de un tipo $T$ genérico.\n",
    "Definimos el tipo producto como $T_1 * T_2$, cuyas operaciones son:\n",
    "- Constructora:\n",
    "    - `create: (T1, T2) -> T1 * T2`\n",
    "- Observadora:\n",
    "    - `first: T1 * T2 -> T1`\n",
    "    - `second: T1 * T2 -> T2`"
   ]
  },
  {
   "cell_type": "markdown",
   "id": "de8e6cdd",
   "metadata": {},
   "source": [
    "### Case classes"
   ]
  },
  {
   "cell_type": "markdown",
   "id": "3c725aab",
   "metadata": {},
   "source": [
    "En Scala podemos definir clases que trabajen sobre productos, de modo que automaticamente, indicamos al compilador que creé un objeto de una determinada clase mediante el método `apply` y que sobreescriba los métodos de la clase `equals` y `hashCode`."
   ]
  },
  {
   "cell_type": "markdown",
   "id": "e75db1c5",
   "metadata": {},
   "source": [
    "Este cometido podemos lograrlo mediante las **case classes**"
   ]
  },
  {
   "cell_type": "code",
   "execution_count": 17,
   "id": "015eec4f",
   "metadata": {},
   "outputs": [
    {
     "data": {
      "text/plain": [
       "defined \u001b[32mclass\u001b[39m \u001b[36mRectangle\u001b[39m\r\n",
       "defined \u001b[32mclass\u001b[39m \u001b[36mCircle\u001b[39m\r\n",
       "defined \u001b[32mclass\u001b[39m \u001b[36mTriangle\u001b[39m"
      ]
     },
     "execution_count": 17,
     "metadata": {},
     "output_type": "execute_result"
    }
   ],
   "source": [
    "case class Rectangle(w: Int, h: Int)\n",
    "case class Circle(r: Int)\n",
    "case class Triangle(w: Int)"
   ]
  },
  {
   "cell_type": "code",
   "execution_count": 18,
   "id": "51a04518",
   "metadata": {},
   "outputs": [
    {
     "data": {
      "text/plain": [
       "\u001b[36mres17_0\u001b[39m: \u001b[32mRectangle\u001b[39m = \u001b[33mRectangle\u001b[39m(w = \u001b[32m4\u001b[39m, h = \u001b[32m3\u001b[39m)\r\n",
       "\u001b[36mres17_1\u001b[39m: \u001b[32mCircle\u001b[39m = \u001b[33mCircle\u001b[39m(r = \u001b[32m10\u001b[39m)\r\n",
       "\u001b[36mres17_2\u001b[39m: \u001b[32mTriangle\u001b[39m = \u001b[33mTriangle\u001b[39m(w = \u001b[32m5\u001b[39m)\r\n",
       "\u001b[36mres17_3\u001b[39m: \u001b[32mInt\u001b[39m = \u001b[32m1250635654\u001b[39m\r\n",
       "\u001b[36mres17_4\u001b[39m: \u001b[32mInt\u001b[39m = \u001b[32m121498338\u001b[39m\r\n",
       "\u001b[36mres17_5\u001b[39m: \u001b[32mInt\u001b[39m = \u001b[32m-1361096070\u001b[39m"
      ]
     },
     "execution_count": 18,
     "metadata": {},
     "output_type": "execute_result"
    }
   ],
   "source": [
    "// Podemos instanciar estas clases\n",
    "Rectangle(4,3)\n",
    "Circle(10)\n",
    "Triangle(5)\n",
    "\n",
    "//Y ejecutar métodos sobre sus objetos\n",
    "Rectangle(4,3).hashCode\n",
    "Circle(10).hashCode\n",
    "Triangle(5).hashCode"
   ]
  },
  {
   "cell_type": "markdown",
   "id": "8dc7332a",
   "metadata": {},
   "source": [
    "### Productos en Scala: `TupleN`"
   ]
  },
  {
   "cell_type": "markdown",
   "id": "89fb7730",
   "metadata": {},
   "source": [
    "En Scala ya vienen por defecto definidas casse classes que representan n-productos (hasta 22) denominados **tuplas**.\n",
    "Podemos definir por tanto un ejemplo para 2-tuplas (`Tuple2`) "
   ]
  },
  {
   "cell_type": "code",
   "execution_count": 19,
   "id": "c79ebb2d",
   "metadata": {},
   "outputs": [
    {
     "data": {
      "text/plain": [
       "defined \u001b[32mclass\u001b[39m \u001b[36mTuple2\u001b[39m"
      ]
     },
     "execution_count": 19,
     "metadata": {},
     "output_type": "execute_result"
    }
   ],
   "source": [
    "case class Tuple2[A, B](_1: A, _2: B)"
   ]
  },
  {
   "cell_type": "markdown",
   "id": "d1df2bd7",
   "metadata": {},
   "source": [
    "Scala también ofrece azucar sintáctico para definir tuplas:"
   ]
  },
  {
   "cell_type": "code",
   "execution_count": 20,
   "id": "4c9ded3b",
   "metadata": {},
   "outputs": [
    {
     "data": {
      "text/plain": [
       "\u001b[36mt3\u001b[39m: (\u001b[32mInt\u001b[39m, \u001b[32mString\u001b[39m, \u001b[32mBoolean\u001b[39m) = (\u001b[32m1\u001b[39m, \u001b[32m\"Uno\"\u001b[39m, \u001b[32mtrue\u001b[39m)\r\n",
       "\u001b[36mt3Sugar\u001b[39m: (\u001b[32mInt\u001b[39m, \u001b[32mString\u001b[39m, \u001b[32mBoolean\u001b[39m) = (\u001b[32m1\u001b[39m, \u001b[32m\"Uno\"\u001b[39m, \u001b[32mtrue\u001b[39m)"
      ]
     },
     "execution_count": 20,
     "metadata": {},
     "output_type": "execute_result"
    }
   ],
   "source": [
    "// En vez de declararlo así...\n",
    "val t3: Tuple3[Int, String, Boolean] = Tuple3(1, \"Uno\", true)\n",
    "\n",
    "// Podemos declararlo mediante su versión azucarada\n",
    "val t3Sugar: (Int, String, Boolean) = (1, \"Uno\", true)"
   ]
  },
  {
   "cell_type": "markdown",
   "id": "87fc3f4f",
   "metadata": {},
   "source": [
    "### Sentido algebráico de las tuplas"
   ]
  },
  {
   "cell_type": "markdown",
   "id": "18866772",
   "metadata": {},
   "source": [
    "Las tuplas están conformadas por dos tipos, de modo que esta quiere representar así pues, todas las posibles combinaciones de tantos tipos como componga la tupla.\\\n",
    "De este modo, dandole a esta definición un sentido numérico: $|A*B| = |A|*|B|$\\\n",
    "Así pues podemos deducir que debe existir un tipo que actue como **elemento neutro** al igual que el $1$ lo hace en la mutiplicación.\\\n",
    "Sea $1$ de tipo elemento neutro, así pues $A*1 \\cong A \\cong 1*A$ donde el símbolo $\\cong$ representa el *isomorfismo*.\\\n",
    "En un sentido númerico deducimos $|A*1|=|A|; |A|*|1|=|A|;$ Por tanto: $|A*1|=|A|$, así como $|1*A|=|A|$\n"
   ]
  },
  {
   "cell_type": "markdown",
   "id": "50ba7c35",
   "metadata": {},
   "source": [
    "Scala tiene ya un tipo definido para el elementos neutro: `Unit`, cuyo único valor es `()`.\\\n",
    "Puede definirse como sigue:"
   ]
  },
  {
   "cell_type": "code",
   "execution_count": 22,
   "id": "5a323e7e",
   "metadata": {},
   "outputs": [],
   "source": [
    "val unit: Unit = ()"
   ]
  },
  {
   "cell_type": "markdown",
   "id": "891f8b27",
   "metadata": {},
   "source": [
    "### Tipos isomorfos"
   ]
  },
  {
   "cell_type": "markdown",
   "id": "206d19b3",
   "metadata": {},
   "source": [
    "Dados dos tipos $A$ y $B$, decimos si son isomorfos si representan la misma información. Si tomamos estos tipos como dos conjuntos, definimos isomorfismo como la posibilidad de establecer un biyección entre ambos conjuntos (correspondencia 1 a 1)"
   ]
  },
  {
   "cell_type": "markdown",
   "id": "b9552f12",
   "metadata": {},
   "source": [
    "Para poder definir por tanto el isomorfismo, necesitamos definir dos funciones:\n",
    "- $from$: todos los elementos de $A$ tienen correspondencia con $B$\n",
    "- $to$: todos los elementos de $B$ tienen correspondencia con $A$"
   ]
  },
  {
   "cell_type": "markdown",
   "id": "2d770ec5",
   "metadata": {},
   "source": [
    "En código podemos definir este concepto como sigue:"
   ]
  },
  {
   "cell_type": "code",
   "execution_count": 24,
   "id": "bdeaa477",
   "metadata": {},
   "outputs": [
    {
     "data": {
      "text/plain": [
       "defined \u001b[32mtrait\u001b[39m \u001b[36mIsomorphic\u001b[39m"
      ]
     },
     "execution_count": 24,
     "metadata": {},
     "output_type": "execute_result"
    }
   ],
   "source": [
    "trait Isomorphic[A,B] {\n",
    "    def from (a: A): B\n",
    "    def to (b: B): A\n",
    "    \n",
    "    // Funciones de igualdad\n",
    "    def equalA(a1: A, a2: A): Boolean =\n",
    "        a1 == a2\n",
    "    def equalB(b1: B, b2: B): Boolean =\n",
    "        b1 == b2\n",
    "    \n",
    "    // Condiciones para la biyección\n",
    "    def c1(a: A): Boolean = \n",
    "        equalA(to(from(a)), a)\n",
    "    \n",
    "    def c2(b: B): Boolean = \n",
    "        equalB(from(to(b)), b)\n",
    "}"
   ]
  },
  {
   "cell_type": "markdown",
   "id": "517a809c",
   "metadata": {},
   "source": [
    "Podemos por tanto implementar un isomorfismo tal que $Boolean*1 \\cong Boolean$"
   ]
  },
  {
   "cell_type": "code",
   "execution_count": 26,
   "id": "617e537e",
   "metadata": {},
   "outputs": [
    {
     "data": {
      "text/plain": [
       "defined \u001b[32mobject\u001b[39m \u001b[36mIso1\u001b[39m"
      ]
     },
     "execution_count": 26,
     "metadata": {},
     "output_type": "execute_result"
    }
   ],
   "source": [
    "object Iso1 extends Isomorphic[Boolean, (Boolean, Unit)]{\n",
    "    \n",
    "    def from(b: Boolean): (Boolean, Unit) = \n",
    "        (b, ())\n",
    "    \n",
    "    def to(t: (Boolean, Unit)): Boolean = \n",
    "        t._1\n",
    "}"
   ]
  },
  {
   "cell_type": "markdown",
   "id": "9c2f4214",
   "metadata": {},
   "source": [
    "Con la implementación podemos asegurar que satisfacemos las condiciones:\n",
    "- `from(to(b))=b`, para todo `b: (Boolean, Unit)`, y \n",
    "- `to(from(b))=b` para todo `b: Boolean`."
   ]
  },
  {
   "cell_type": "code",
   "execution_count": 27,
   "id": "a16fa19b",
   "metadata": {},
   "outputs": [
    {
     "data": {
      "text/plain": [
       "\u001b[36mres26_0\u001b[39m: \u001b[32mBoolean\u001b[39m = \u001b[32mtrue\u001b[39m\r\n",
       "\u001b[36mres26_1\u001b[39m: \u001b[32mBoolean\u001b[39m = \u001b[32mtrue\u001b[39m\r\n",
       "\u001b[36mres26_2\u001b[39m: \u001b[32mBoolean\u001b[39m = \u001b[32mtrue\u001b[39m\r\n",
       "\u001b[36mres26_3\u001b[39m: \u001b[32mBoolean\u001b[39m = \u001b[32mtrue\u001b[39m"
      ]
     },
     "execution_count": 27,
     "metadata": {},
     "output_type": "execute_result"
    }
   ],
   "source": [
    "// Usando los métodos que acabamos de definir...\n",
    "Iso1.to(Iso1.from(true))==true\n",
    "Iso1.to(Iso1.from(false))==false\n",
    "Iso1.from(Iso1.to((true,())))==(true,())\n",
    "Iso1.from(Iso1.to((false,())))==(false,())\n",
    "\n",
    "//O las condiciones de la biyección...\n"
   ]
  },
  {
   "cell_type": "code",
   "execution_count": 29,
   "id": "0f64e6c0",
   "metadata": {},
   "outputs": [],
   "source": [
    "assert(Iso1.c1(true))\n",
    "assert(Iso1.c1(false))\n",
    "assert(Iso1.c2((true, ())))\n",
    "assert(Iso1.c2((false, ())))"
   ]
  },
  {
   "cell_type": "markdown",
   "id": "c590a9f5",
   "metadata": {},
   "source": [
    "## Tipo suma"
   ]
  },
  {
   "cell_type": "markdown",
   "id": "cedd9f25",
   "metadata": {},
   "source": [
    "Sean $T_1$ y $T_2$ dos elementos de un tipo $T$ genérico.\n",
    "Definimos el tipo suma como $T_1 + T_2$, cuyas operaciones son:\n",
    "- Constructora:\n",
    "    - `create: (T1, T2) -> T1 + T2`\n",
    "- Observadora:\n",
    "    - Mediante funciones inyectivas:\n",
    "        - `yA: A + B -> A`\n",
    "        - `yB: A + B -> B`\n",
    "    - Mediante la función `match`\n",
    "        - `match: (A -> C) -> (B -> C) -> A + B -> C` "
   ]
  },
  {
   "cell_type": "markdown",
   "id": "ffeb4bc7",
   "metadata": {},
   "source": [
    "A modo de aclaración, la función `match` quiere decir que si sabemos como conseguir $C$ desde $A$, y también como conseguir $C$ desde $B$, entonces sabemos que $C$ puede ser conseguida por $A+B$, o lo que es lo mismo, $A$ o $B$"
   ]
  },
  {
   "cell_type": "markdown",
   "id": "00a8b18a",
   "metadata": {},
   "source": [
    "Numéricamente podemos ver el tipo suma como: $|A+B|=|A|+|B|$"
   ]
  },
  {
   "cell_type": "markdown",
   "id": "90a9f1c3",
   "metadata": {},
   "source": [
    "### Tipo suma en Scala"
   ]
  },
  {
   "cell_type": "markdown",
   "id": "b53a1a6e",
   "metadata": {},
   "source": [
    "Podemos definir tipos suma mediante el concepto de clase sellada. Este concepto permite usar la herencia de modo que solo las **case classes** que definamos como subclases de la clase sellada, serán las únicas instancias posibles que heredarán de esta *(similar a definir un enumerado pero con clases de modo que pueda ampliarse su funcionalidad)*. Podemos ejemplificarlo como sigue:"
   ]
  },
  {
   "cell_type": "code",
   "execution_count": 31,
   "id": "91b0d171",
   "metadata": {},
   "outputs": [
    {
     "data": {
      "text/plain": [
       "defined \u001b[32mclass\u001b[39m \u001b[36mShape\u001b[39m\r\n",
       "defined \u001b[32mclass\u001b[39m \u001b[36mRectangle\u001b[39m\r\n",
       "defined \u001b[32mclass\u001b[39m \u001b[36mTriangle\u001b[39m\r\n",
       "defined \u001b[32mclass\u001b[39m \u001b[36mCircle\u001b[39m\r\n",
       "\u001b[36ms1\u001b[39m: \u001b[32mShape\u001b[39m = \u001b[33mRectangle\u001b[39m(w = \u001b[32m1\u001b[39m, h = \u001b[32m1\u001b[39m)\r\n",
       "\u001b[36ms2\u001b[39m: \u001b[32mShape\u001b[39m = \u001b[33mTriangle\u001b[39m(w = \u001b[32m1\u001b[39m)\r\n",
       "\u001b[36ms3\u001b[39m: \u001b[32mShape\u001b[39m = \u001b[33mCircle\u001b[39m(e = \u001b[32m2\u001b[39m)"
      ]
     },
     "execution_count": 31,
     "metadata": {},
     "output_type": "execute_result"
    }
   ],
   "source": [
    "// tipo Shape = Rectangle + Triangle + Circle\n",
    "sealed abstract class Shape\n",
    "case class Rectangle(w: Int, h: Int) extends Shape\n",
    "case class Triangle(w: Int) extends Shape\n",
    "case class Circle(e: Int) extends Shape\n",
    "\n",
    "// Creamos valores de tipo Shape\n",
    "val s1: Shape = Rectangle(1,1)\n",
    "val s2: Shape = Triangle(1)\n",
    "val s3: Shape = Circle(2)"
   ]
  },
  {
   "cell_type": "markdown",
   "id": "26db1469",
   "metadata": {},
   "source": [
    "Así pues, podemos aplicar *pattern matching* a los valores como operación observadora:"
   ]
  },
  {
   "cell_type": "code",
   "execution_count": 33,
   "id": "a068dce3",
   "metadata": {},
   "outputs": [
    {
     "data": {
      "text/plain": [
       "\u001b[36ms\u001b[39m: \u001b[32mString\u001b[39m = \u001b[32m\"Rectangle\"\u001b[39m"
      ]
     },
     "execution_count": 33,
     "metadata": {},
     "output_type": "execute_result"
    }
   ],
   "source": [
    "val s: String = s1 match {\n",
    "    // Rectangle => String\n",
    "    case r: Rectangle => \"Rectangle\": String\n",
    "    // Triangle => String\n",
    "    case t: Triangle => \"Triangle\": String\n",
    "    // Circle => String\n",
    "    case c: Circle => \"Circle\": String\n",
    "}"
   ]
  },
  {
   "cell_type": "markdown",
   "id": "887c3675",
   "metadata": {},
   "source": [
    "### Tipos `Option` y `Either` como tipos suma en Scala"
   ]
  },
  {
   "cell_type": "markdown",
   "id": "59aa01f8",
   "metadata": {},
   "source": [
    "En Scala podemos encontrar dos tipos suma importantes, `Option` y `Either`. Podemos definirlos como:"
   ]
  },
  {
   "cell_type": "code",
   "execution_count": 34,
   "id": "411a42fe",
   "metadata": {},
   "outputs": [
    {
     "data": {
      "text/plain": [
       "defined \u001b[32mobject\u001b[39m \u001b[36msumTypes\u001b[39m"
      ]
     },
     "execution_count": 34,
     "metadata": {},
     "output_type": "execute_result"
    }
   ],
   "source": [
    "object sumTypes{\n",
    "    sealed abstract class Option[A]\n",
    "    case class Some[A](a: A) extends Option[A]\n",
    "    case class None[A]() extends Option[A]\n",
    "    \n",
    "    sealed abstract class Either[A, B]\n",
    "    case class Left[A, B](a: A) extends Either[A, B]\n",
    "    case class Right[A, B](b: B) extends Either[A, B]\n",
    "}"
   ]
  },
  {
   "cell_type": "markdown",
   "id": "11067531",
   "metadata": {},
   "source": [
    "Estos tipos pueden ser muy útiles en nuestro código para el manejo de errores cuando queremos programar de manera puramente funcional. Un ejemplo podría ser:"
   ]
  },
  {
   "cell_type": "code",
   "execution_count": null,
   "id": "f1233ef7",
   "metadata": {},
   "outputs": [],
   "source": []
  }
 ],
 "metadata": {
  "kernelspec": {
   "display_name": "Scala",
   "language": "scala",
   "name": "scala"
  },
  "language_info": {
   "codemirror_mode": "text/x-scala",
   "file_extension": ".sc",
   "mimetype": "text/x-scala",
   "name": "scala",
   "nbconvert_exporter": "script",
   "version": "2.13.8"
  }
 },
 "nbformat": 4,
 "nbformat_minor": 5
}
