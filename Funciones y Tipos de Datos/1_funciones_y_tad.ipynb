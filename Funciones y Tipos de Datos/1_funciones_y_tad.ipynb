{
 "cells": [
  {
   "cell_type": "markdown",
   "id": "e9eddb43",
   "metadata": {},
   "source": [
    "# FUNCIONES"
   ]
  },
  {
   "cell_type": "markdown",
   "id": "c94c10b5",
   "metadata": {},
   "source": [
    "## Funciones puras:"
   ]
  },
  {
   "cell_type": "markdown",
   "id": "d5890dfb",
   "metadata": {},
   "source": [
    "Buscamos definir funciones que se limiten simplemente a su comportamiento matemático, es decir, recibir valores de entrada, operar con ellos, y devolver una salida. Cualquier función que realice más allá de ese comportamiento se define como una función impura."
   ]
  },
  {
   "cell_type": "code",
   "execution_count": null,
   "id": "304f5003",
   "metadata": {},
   "outputs": [],
   "source": [
    "// Ejemplo función pura\n",
    "def pureAdd(v1: Int, v2: Int): Int = {\n",
    "    v1 + v2;\n",
    "}\n",
    "\n",
    "// Ejemplo función impura\n",
    "def impureAdd(v1: Int, v2: Int): Int = {\n",
    "    var result: Int = v1 + v2;\n",
    "    println(\"Resultado: \" + result);\n",
    "    return result;\n",
    "}"
   ]
  },
  {
   "cell_type": "code",
   "execution_count": null,
   "id": "0a8465f7",
   "metadata": {
    "scrolled": true
   },
   "outputs": [],
   "source": [
    "pureAdd(2,3)\n",
    "impureAdd(2,3)"
   ]
  },
  {
   "cell_type": "markdown",
   "id": "9efdd71a",
   "metadata": {},
   "source": [
    "## Modularización:"
   ]
  },
  {
   "cell_type": "markdown",
   "id": "a14fa18d",
   "metadata": {},
   "source": [
    "Las funciones tambien nos permiten modularizar fragmentos de código, pudiendo ser usados posteriormente sin la necesidad de repetir código"
   ]
  },
  {
   "cell_type": "code",
   "execution_count": null,
   "id": "5af47dad",
   "metadata": {},
   "outputs": [],
   "source": [
    "// Ejemplo de un programa sin modularización\n",
    "\n",
    "// Definimos un mapa con dos valores escritos por defecto\n",
    "val config: Map[String, String] = \n",
    "    Map(\n",
    "        \"URL\" -> \"www.urldeprueba.com\",\n",
    "        \"PORT\" -> \"8021\"\n",
    "    )\n",
    "\n",
    "// Ahora pedimos esos valores de modo que, si encontramos la clave, se muestra su valor asociado,\n",
    "// si no existe, mostraremos un valor por defecto\n",
    "\n",
    "val port: String = config.get(\"URL\") match {\n",
    "    case Some(u) => u\n",
    "    case None => \"www.default.com\"\n",
    "}\n",
    "\n",
    "val url: String = config.get(\"PORT\") match {\n",
    "    case Some(p) => p\n",
    "    case None => \"8080\"\n",
    "}\n",
    "\n",
    "val path: String = config.get(\"PATH\") match {\n",
    "    case Some(pt) => pt\n",
    "    case None => \"/usr/desktop/server\"\n",
    "}"
   ]
  },
  {
   "cell_type": "markdown",
   "id": "302547f5",
   "metadata": {},
   "source": [
    "Las consultas anteriores la mapa podrián haber sido modelizadas mediante un único método:"
   ]
  },
  {
   "cell_type": "code",
   "execution_count": null,
   "id": "cd2b6d17",
   "metadata": {},
   "outputs": [],
   "source": [
    "def getMapValue(map: Map[String, String], key: String, default: String): String = {\n",
    "    map.get(key) match {\n",
    "        case Some(v) => v\n",
    "        case None => default\n",
    "    }\n",
    "}\n",
    "\n",
    "getMapValue(config, \"URL\", \"www.default.com\")\n",
    "getMapValue(config, \"PORT\", \"8080\")\n",
    "getMapValue(config, \"PATH\", \"/usr/desktop/server\")"
   ]
  },
  {
   "cell_type": "markdown",
   "id": "19f6d80c",
   "metadata": {},
   "source": [
    "## Funciones como métodos"
   ]
  },
  {
   "cell_type": "markdown",
   "id": "f4da214b",
   "metadata": {},
   "source": [
    "Podemos definir las funciones como métodos dentro de **clases**, **objetos**, o **traits**"
   ]
  },
  {
   "cell_type": "code",
   "execution_count": null,
   "id": "93aeddc8",
   "metadata": {},
   "outputs": [],
   "source": [
    "object calculator {\n",
    "    \n",
    "    def add(v1: Int, v2: Int): Int = {\n",
    "        if (v1 >= 0 && v2 >= 0){\n",
    "            v1 + v2\n",
    "        } else 0;\n",
    "    }\n",
    "    \n",
    "    def sub(v1: Int, v2: Int): Int = {\n",
    "        if (v1 >= 0 && v2 >= 0){\n",
    "            v1 - v2;\n",
    "        } else 0;\n",
    "    }\n",
    "    \n",
    "    def mult(v1: Int, v2: Int): Int = {\n",
    "        v1 * v2;  \n",
    "    }\n",
    "    \n",
    "    def div(v1: Int, v2: Int): Int = {\n",
    "        if (v2 != 0){\n",
    "            v1 / v2;\n",
    "        } else 0;\n",
    "    }\n",
    "}\n",
    "\n",
    "calculator.add(4,5)\n",
    "calculator.sub(4,6)\n",
    "calculator.mult(4,6)\n",
    "calculator.div(12,6)"
   ]
  },
  {
   "cell_type": "markdown",
   "id": "1e49b685",
   "metadata": {},
   "source": [
    "### Funciones como valores"
   ]
  },
  {
   "cell_type": "markdown",
   "id": "01d52688",
   "metadata": {},
   "source": [
    "Las funciones también pueden ser definidas como valores, es decir, como objetos, de modo que así permitimos que estas puedan recibir otras funciones como argumentos o devolver funciones como resultados. A estas funciones se las denomina **funciones de orden superior**.\n",
    "\n",
    "A la hora de definir funciones como valor debemos tener en cuenta la diferencia entre **variables**, **tipos** y **valores**."
   ]
  },
  {
   "cell_type": "code",
   "execution_count": null,
   "id": "a3360db9",
   "metadata": {},
   "outputs": [],
   "source": [
    "val i: Int = 3  // variable -> i || tipo -> Int || valor -> 3\n",
    "val s: String = \"Hola\"  // variable -> s || tipo -> String || valor -> \"Hola\"\n",
    "val b: Boolean = true   // variable -> b || tipo -> Boolean || valor -> true"
   ]
  },
  {
   "cell_type": "markdown",
   "id": "87210138",
   "metadata": {},
   "source": [
    "Definimos a continuación unas funciones, primero como **función método** y después como **función valor**"
   ]
  },
  {
   "cell_type": "code",
   "execution_count": null,
   "id": "2f826f47",
   "metadata": {},
   "outputs": [],
   "source": [
    "// FUNCIONES MÉTODO\n",
    "def add(v1: Int, v2: Int): Int = \n",
    "    v1 + v2\n",
    "\n",
    "def sub(v1: Int, v2: Int): Int = \n",
    "    v1 - v2\n",
    "\n",
    "\n",
    "// FUNCIONES VALOR\n",
    "val addV: (Int, Int) => Int = // Tipo de la función -> (Int, Int) => Int\n",
    "    (v1: Int, v2: Int) => v1 + v2 // Valores de la función -> (v1: Int, v2: Int) => v1 + v2 || Tipo -> = tipo de la función\n",
    "\n",
    "val subV: (Int, Int) => Int = // Tipo de la función -> (Int, Int) => Int\n",
    "    (v1: Int, v2: Int) => v1 - v2 // Valores de la función -> (v1: Int, v2: Int) => v1 - v2 || Tipo -> = tipo de la función\n",
    "\n",
    "\n",
    "add(5,4)\n",
    "sub(5,4)\n",
    "\n",
    "addV(5,4)\n",
    "subV(5,4)"
   ]
  },
  {
   "cell_type": "markdown",
   "id": "7ca062b7",
   "metadata": {},
   "source": [
    "Como puede apreciarse, toda función valor viene determianda por el **tipo de la función** y los **valores de la función**.\n",
    "De este modo pueden diferenciarse dos elementos en las funciones valor:\n",
    "- **Input arguments**: los argumentos de entrada definen nuevas variables del entorno con las que posteriormente se operará\n",
    "- **Body**: define el comportamiento de la función, realizando un cómputo con las variables que fueron pasadas por los argumentos definiendo así el valor que se retornará\n",
    "\n",
    "A las funciones valor se las conoce como **expresiones lambda**"
   ]
  },
  {
   "cell_type": "markdown",
   "id": "dccef4c9",
   "metadata": {},
   "source": [
    "Podemos usar, como se habia mencionado, las funciones valor como argumentos de entrada para otras funciones:"
   ]
  },
  {
   "cell_type": "code",
   "execution_count": null,
   "id": "d54cd1fe",
   "metadata": {},
   "outputs": [],
   "source": [
    "// Definimos la función call como un función que recibe como argumentos:\n",
    "// - Una función de tipo (Int, Int) => Int\n",
    "// - Dos valores de tipo Int para operar con la función\n",
    "def call(intInt2Int: (Int, Int) => Int, v1: Int, v2: Int): Int =\n",
    "    intInt2Int(v1, v2)\n",
    "\n",
    "// Llamamos a la función call con las FUNCIONES VALOR que habiamos declarado anteriormente pasandolas como primer parámetro\n",
    "call(addV, 4, 5)\n",
    "call(subV, 4, 5)\n",
    "\n",
    "// También podemos pasar una FUNCIÓN MÉTODO que automaticamente es convertida y\n",
    "// considerada como FUNCIÓN VALOR dentro de la función call\n",
    "call(add, 4, 5)\n",
    "call(sub, 4, 5)"
   ]
  },
  {
   "cell_type": "markdown",
   "id": "82c443d5",
   "metadata": {},
   "source": [
    "### Azucar sintáctico para funciones valor"
   ]
  },
  {
   "cell_type": "markdown",
   "id": "c0938be3",
   "metadata": {},
   "source": [
    "Podemos obviar diferentes aspectos a la hora de declarar funciones valor, de modo que su implementación queda simplificada. Entre esos aspectos, podemos omitir:\n",
    "- **Los tipos de las entradas**: de modo que Scala los infiere\n",
    "- **Uso de variables mudas**: definiendo una variable mediante el caracter '_' de modo que no se tendrá en cuenta si ha sido declarada"
   ]
  },
  {
   "cell_type": "code",
   "execution_count": null,
   "id": "e4a460ec",
   "metadata": {},
   "outputs": [],
   "source": [
    "// Ejemplo de aplicación de azucar sintáctico para la declaración de una función valor\n",
    "val addV: (Int, Int) => Int =\n",
    "    (v1: Int, v2: Int) => v1 + v2\n",
    "\n",
    "// Su declaración puede ser transformada...\n",
    "val addVSugar: (Int, Int) => Int =\n",
    "    _ + _\n",
    "\n",
    "// Ambas tienen el mismo comportamiento\n",
    "addV(4,5)\n",
    "addVSugar(4,5)"
   ]
  },
  {
   "cell_type": "markdown",
   "id": "683aa1fd",
   "metadata": {},
   "source": [
    "### Currificación de funciones"
   ]
  },
  {
   "cell_type": "markdown",
   "id": "b0ddf58a",
   "metadata": {},
   "source": [
    "La idea principal es intentar crear funciones valor que reciban varios parámetros de entrada de modo que a la hora de ser llamadas, estas lo sean como si fuese una función de un único parámetro. Esto lo conseguiremos implementando una función de un argumento que devuelve otra función de un argumento de modo que operaremos con ella."
   ]
  },
  {
   "cell_type": "code",
   "execution_count": null,
   "id": "7c7ed57d",
   "metadata": {},
   "outputs": [],
   "source": [
    "// Función valor declarada de forma estandar (usando azucar sintáctico)\n",
    "val addVSugar_ : (Int, Int) => Int = \n",
    "    _ + _\n",
    "\n",
    "//Podemos convertirla a su versión currificada...\n",
    "val addCurry: Int => (Int => Int) = // El (Int, Int) puede ser obviado y transformado simplemente en Int.\n",
    "    (a: Int) => (b: Int) => a + b : Int\n",
    "\n",
    "// La función que devolvemos primeramente será...\n",
    "addCurry(4): (Int => Int)\n",
    "\n",
    "// A continuación, llamamos a esta función con el segundo parámetro obteniendo finalmente el resultado\n",
    "addCurry(4)(5)\n",
    "\n",
    "//Análogamente podemos currificar un FUNCIÓN MÉTODO mediante una lista múltiple de parámetros...\n",
    "def addMCurry(v1: Int)(v2: Int): Int = \n",
    "    v1 + v2\n",
    "\n",
    "// Puede llamarse igual que a una FUNCIÓN VALOR CURRIFICADA\n",
    "addMCurry(4)(5)"
   ]
  },
  {
   "cell_type": "markdown",
   "id": "174d9169",
   "metadata": {},
   "source": [
    "### Composición de funciones"
   ]
  },
  {
   "cell_type": "markdown",
   "id": "f7bbeef0",
   "metadata": {},
   "source": [
    "Podemos construir funciones usando otras funciones de modo que podemos concatenarlas realizando una composición. Este procedimiento ayuda a la modularización."
   ]
  },
  {
   "cell_type": "code",
   "execution_count": null,
   "id": "cceec136",
   "metadata": {
    "scrolled": true
   },
   "outputs": [],
   "source": [
    "// Creamos una función que implementa el comportamiento de varias funciones a la vez...\n",
    "// En este caso, la función implementa el comportamiento de conseguir la logitud de un string y de verificar si un número de par\n",
    "def stringLengthIsEven: String => Boolean =\n",
    "    (s: String) => s.length % 2 == 0\n",
    "\n",
    "// Podemos definir dos nuevas funciones con comportamiento individual\n",
    "def stringLenght: String => Int = \n",
    "    (s: String) => s.length\n",
    "\n",
    "def isEven: Int => Boolean =\n",
    "    (n: Int) => n % 2 == 0\n",
    "\n",
    "// Con estas dos funciones podemos definir el comportamiento de una funcion de composición del estilo (String => Int) => Boolean\n",
    "def composition(f2: Int => Boolean, f1: String => Int): String => Boolean =\n",
    "    (s: String) => f2(f1(s))"
   ]
  },
  {
   "cell_type": "markdown",
   "id": "6b0da042",
   "metadata": {},
   "source": [
    "Podemos redefinir el comportamiento de las funciones usando la composición"
   ]
  },
  {
   "cell_type": "code",
   "execution_count": null,
   "id": "46c29308",
   "metadata": {},
   "outputs": [],
   "source": [
    "// De este modo, la primera función resulta de la forma...\n",
    "val stringLengthIsEven: String => Boolean =\n",
    "    composition(isEven, stringLenght)"
   ]
  },
  {
   "cell_type": "markdown",
   "id": "392ff400",
   "metadata": {},
   "source": [
    "La función composición ya viene definida por defecto en Scala, de modo que podemos aplicarla como sigue"
   ]
  },
  {
   "cell_type": "code",
   "execution_count": null,
   "id": "a77cb2ee",
   "metadata": {},
   "outputs": [],
   "source": [
    "// Usando f.compose(h)\n",
    "val stringLengthIsEvenDotCompose: String => Boolean =\n",
    "    isEven.compose(stringLenght)\n",
    "\n",
    "// Usando la notación infija compose\n",
    "val stringLengthIsEvenCompose: String => Boolean =\n",
    "    isEven compose stringLenght\n",
    "\n",
    "// Usando andThen\n",
    "val stringLengthIsEvenAndThen: String => Boolean =\n",
    "    stringLenght andThen isEven"
   ]
  },
  {
   "cell_type": "markdown",
   "id": "28c91530",
   "metadata": {},
   "source": [
    "A la hora de definir la composición, podemos hacerlo para tipos genéricos"
   ]
  },
  {
   "cell_type": "code",
   "execution_count": null,
   "id": "79ee6acc",
   "metadata": {},
   "outputs": [],
   "source": [
    "// Definición de composición genérica\n",
    "def genericComposition[A,B,C](f2: B => C, f1: A => B): A => C =\n",
    "    (a: A) => f2(f1(a))\n",
    "\n",
    "// Definición de composición genérica currificada\n",
    "def genericCompositionCurry[A,B,C]: (B => C) => (A => B) => A => C =\n",
    "    f2 => f1 => (a: A) => f2(f1(a))\n",
    "\n",
    "// De este modo, podemos redefinir otra vez la función del principio\n",
    "val stringLengthIsEvenGenericComposition: String => Boolean =\n",
    "    genericComposition(isEven, stringLenght)\n",
    "\n",
    "val stringLengthIsEvenGenericCompositionCurry: String => Boolean =\n",
    "    genericCompositionCurry(isEven)(stringLenght)"
   ]
  },
  {
   "cell_type": "markdown",
   "id": "44e00c42",
   "metadata": {},
   "source": [
    "Finalmente, podemos hablar del concepto de **función identidad**, de modo que, sea cual sea la función que elijamos para componer con la identidad, el resultado siempre será la función elegida"
   ]
  },
  {
   "cell_type": "code",
   "execution_count": null,
   "id": "56feb9b9",
   "metadata": {},
   "outputs": [],
   "source": [
    "// Definición de la función identidad\n",
    "def identity[A](a: A): A =\n",
    "    a\n",
    "\n",
    "// Podemos implementarla también con expresiones lambda\n",
    "def identity[A]: A => A =\n",
    "    (a: A) => a"
   ]
  },
  {
   "cell_type": "markdown",
   "id": "b4928df0",
   "metadata": {},
   "source": [
    "### Funciones representadas como valores"
   ]
  },
  {
   "cell_type": "markdown",
   "id": "b2be2aa1",
   "metadata": {},
   "source": [
    "Las funciones de tipo A => B son azucar sintáctico del tipo Function1\\[A,B\\], así como en extensión, los tipos A => B => C lo son del tipo Function2\\[A,B,C\\] y así sucesivamente. De este modo, las funciones son vistas como **objetos**, es decir, instancias de las clases (tipos) que se han mencionado anteriormente"
   ]
  },
  {
   "cell_type": "code",
   "execution_count": null,
   "id": "e4ecd101",
   "metadata": {},
   "outputs": [],
   "source": [
    "// Redefinimos el comportamiento de la función addOneV como azucar sintáctico (instancia) de Function1[Int, Int]\n",
    "val addOneV: Function1[Int, Int] = new Function1[Int, Int]{\n",
    "    def apply(a: Int): Int = \n",
    "        a + 1\n",
    "}\n",
    "\n",
    "// De este modo podemos llamar a la función mediante su método proveniente de la clase a la que pertenece\n",
    "addOneV.apply(5)\n",
    "\n",
    "// O también con una llamada a la propia función haciendo uso del azucar sintáctico\n",
    "addOneV(5)"
   ]
  }
 ],
 "metadata": {
  "kernelspec": {
   "display_name": "Scala",
   "language": "scala",
   "name": "scala"
  },
  "language_info": {
   "codemirror_mode": "text/x-scala",
   "file_extension": ".sc",
   "mimetype": "text/x-scala",
   "name": "scala",
   "nbconvert_exporter": "script",
   "version": "2.13.8"
  }
 },
 "nbformat": 4,
 "nbformat_minor": 5
}
