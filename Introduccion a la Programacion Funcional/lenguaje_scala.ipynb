{
 "cells": [
  {
   "cell_type": "markdown",
   "id": "0b07ca40",
   "metadata": {
    "pycharm": {
     "name": "#%%\n"
    }
   },
   "source": [
    "## Ejercicio 1: crear una clase e instanciarla"
   ]
  },
  {
   "cell_type": "code",
   "execution_count": 6,
   "id": "e9ddc516",
   "metadata": {},
   "outputs": [
    {
     "data": {
      "text/plain": [
       "defined \u001b[32mclass\u001b[39m \u001b[36mCar\u001b[39m"
      ]
     },
     "execution_count": 6,
     "metadata": {},
     "output_type": "execute_result"
    }
   ],
   "source": [
    "class Car (startSpeed: Int, carModel: String, startGear: Int){\n",
    "    var speed: Int = startSpeed;\n",
    "    var model: String = carModel;\n",
    "    var gear: Int = startGear;\n",
    "    \n",
    "    \n",
    "    def this(){\n",
    "        this(0, \"Beauty Car\", 1);\n",
    "    }\n",
    "    \n",
    "    def isMoving(): Boolean = {\n",
    "        speed > 0;\n",
    "    }\n",
    "    \n",
    "    // Unit -> Equivale a tipo void en otros lenguajes\n",
    "    def speedUp(deltaV: Int): Unit = {\n",
    "        speed = speed + deltaV;\n",
    "    }\n",
    "    \n",
    "    def applyBrakes(deltaV: Int): Unit = {\n",
    "        if (isMoving){\n",
    "            speed = speed - deltaV;    \n",
    "        } else {\n",
    "            System.err.println(\"The car is not moving!\");\n",
    "        }\n",
    "    }\n",
    "    \n",
    "    def changeGear(newGear: Int): Unit = {\n",
    "        gear = newGear;\n",
    "    }\n",
    "    \n",
    "    def printStastus(): Unit = {\n",
    "        println(\"Model: \" + model + \"\\n\" +\n",
    "                \"Speed: \"+ speed + \"\\n\" +\n",
    "                \"Gear: \"+ gear + \"\\n\");\n",
    "    }\n",
    "}"
   ]
  },
  {
   "cell_type": "code",
   "execution_count": 7,
   "id": "5d94c2b4",
   "metadata": {
    "scrolled": true
   },
   "outputs": [
    {
     "name": "stdout",
     "output_type": "stream",
     "text": [
      "Model: Beauty Car\n",
      "Speed: 10\n",
      "Gear: 1\n",
      "\n",
      "Model: Beauty Car\n",
      "Speed: 30\n",
      "Gear: 2\n",
      "\n",
      "Model: Beauty Car\n",
      "Speed: 35\n",
      "Gear: 3\n",
      "\n",
      "Model: Beauty Car\n",
      "Speed: 25\n",
      "Gear: 2\n",
      "\n"
     ]
    },
    {
     "data": {
      "text/html": [
       "<div class=\"jp-RenderedText\">\n",
       "<pre><code><span style=\"color: rgb(0, 187, 187)\"><span class=\"ansi-cyan-fg\">car1</span></span>: <span style=\"color: rgb(0, 187, 0)\"><span class=\"ansi-green-fg\">Car</span></span> = ammonite.$sess.cmd5$Helper$Car@71f20e7e</code></pre>\n",
       "</div>"
      ],
      "text/plain": [
       "\u001b[36mcar1\u001b[39m: \u001b[32mCar\u001b[39m = ammonite.$sess.cmd5$Helper$Car@71f20e7e"
      ]
     },
     "metadata": {},
     "output_type": "display_data"
    }
   ],
   "source": [
    "var car1: Car = new Car()\n",
    "car1.speedUp(10);\n",
    "car1.printStastus();\n",
    "car1.changeGear(2);\n",
    "car1.speedUp(20);\n",
    "car1.printStastus();\n",
    "car1.speedUp(5);\n",
    "car1.changeGear(3);\n",
    "car1.printStastus();\n",
    "car1.applyBrakes(10);\n",
    "car1.changeGear(2);\n",
    "car1.printStastus();"
   ]
  },
  {
   "cell_type": "markdown",
   "id": "ce20db0c",
   "metadata": {},
   "source": [
    "## Ejercicio 2: Bucles"
   ]
  },
  {
   "cell_type": "markdown",
   "id": "81e8ac67",
   "metadata": {},
   "source": [
    "> ### While"
   ]
  },
  {
   "cell_type": "code",
   "execution_count": 3,
   "id": "7c92a6c5",
   "metadata": {
    "scrolled": true
   },
   "outputs": [
    {
     "name": "stdout",
     "output_type": "stream",
     "text": [
      "Bucle ejecutandose en la iteración 0\n",
      "Bucle ejecutandose en la iteración 1\n",
      "Bucle ejecutandose en la iteración 2\n",
      "Bucle ejecutandose en la iteración 3\n",
      "Bucle ejecutandose en la iteración 4\n",
      "Bucle ejecutandose en la iteración 5\n",
      "Bucle ejecutandose en la iteración 6\n",
      "Bucle ejecutandose en la iteración 7\n",
      "Bucle ejecutandose en la iteración 8\n",
      "Bucle ejecutandose en la iteración 9\n"
     ]
    },
    {
     "data": {
      "text/plain": [
       "\u001b[36mindex\u001b[39m: \u001b[32mInt\u001b[39m = \u001b[32m10\u001b[39m"
      ]
     },
     "execution_count": 3,
     "metadata": {},
     "output_type": "execute_result"
    }
   ],
   "source": [
    "var index: Int = 0;\n",
    "while(index < 10) {\n",
    "    println(\"Bucle ejecutandose en la iteración \" + index);\n",
    "    index+=1;\n",
    "}"
   ]
  },
  {
   "cell_type": "markdown",
   "id": "24fedc33",
   "metadata": {},
   "source": [
    "> ### For"
   ]
  },
  {
   "cell_type": "code",
   "execution_count": 4,
   "id": "4ac81e24",
   "metadata": {
    "scrolled": true
   },
   "outputs": [
    {
     "name": "stdout",
     "output_type": "stream",
     "text": [
      "Bucle ejecutandose en la iteración 1\n",
      "Bucle ejecutandose en la iteración 2\n",
      "Bucle ejecutandose en la iteración 3\n",
      "Bucle ejecutandose en la iteración 4\n",
      "Bucle ejecutandose en la iteración 5\n",
      "Bucle ejecutandose en la iteración 6\n",
      "Bucle ejecutandose en la iteración 7\n",
      "Bucle ejecutandose en la iteración 8\n",
      "Bucle ejecutandose en la iteración 9\n",
      "Bucle ejecutandose en la iteración 10\n"
     ]
    },
    {
     "data": {
      "text/plain": [
       "\u001b[36mindex\u001b[39m: \u001b[32mInt\u001b[39m = \u001b[32m0\u001b[39m"
      ]
     },
     "execution_count": 4,
     "metadata": {},
     "output_type": "execute_result"
    }
   ],
   "source": [
    "var index: Int = 0;\n",
    "for (i <- 1 to 10){\n",
    "    println(\"Bucle ejecutandose en la iteración \" + i);\n",
    "}"
   ]
  },
  {
   "cell_type": "code",
   "execution_count": 5,
   "id": "93f5e6f0",
   "metadata": {},
   "outputs": [
    {
     "name": "stdout",
     "output_type": "stream",
     "text": [
      "Valor: Hola\n",
      "Valor: Adios\n",
      "Valor: Que tal\n",
      "Valor: Bien\n",
      "Valor: Casa\n",
      "Valor: Perro\n",
      "Valor: Scala\n",
      "Valor: Me aburro\n",
      "Valor: String\n",
      "Valor: Python\n"
     ]
    },
    {
     "data": {
      "text/plain": [
       "\u001b[36mnumbers\u001b[39m: \u001b[32mArray\u001b[39m[\u001b[32mString\u001b[39m] = \u001b[33mArray\u001b[39m(\n",
       "  \u001b[32m\"Hola\"\u001b[39m,\n",
       "  \u001b[32m\"Adios\"\u001b[39m,\n",
       "  \u001b[32m\"Que tal\"\u001b[39m,\n",
       "  \u001b[32m\"Bien\"\u001b[39m,\n",
       "  \u001b[32m\"Casa\"\u001b[39m,\n",
       "  \u001b[32m\"Perro\"\u001b[39m,\n",
       "  \u001b[32m\"Scala\"\u001b[39m,\n",
       "  \u001b[32m\"Me aburro\"\u001b[39m,\n",
       "  \u001b[32m\"String\"\u001b[39m,\n",
       "  \u001b[32m\"Python\"\u001b[39m\n",
       ")"
      ]
     },
     "execution_count": 5,
     "metadata": {},
     "output_type": "execute_result"
    }
   ],
   "source": [
    "var numbers: Array[String] = Array(\"Hola\",\"Adios\",\"Que tal\",\"Bien\",\"Casa\",\"Perro\",\"Scala\",\"Me aburro\",\"String\",\"Python\");\n",
    "for (item <- numbers){\n",
    "    println(\"Valor: \" + item);\n",
    "}"
   ]
  },
  {
   "cell_type": "markdown",
   "id": "3b7f0324",
   "metadata": {},
   "source": [
    "### Objetos inmutables"
   ]
  },
  {
   "cell_type": "code",
   "execution_count": 10,
   "id": "1affe3d6",
   "metadata": {},
   "outputs": [
    {
     "data": {
      "text/plain": [
       "\u001b[36ma\u001b[39m: \u001b[32mInt\u001b[39m = \u001b[32m1\u001b[39m\r\n",
       "\u001b[36mb\u001b[39m: \u001b[32mInt\u001b[39m = \u001b[32m1\u001b[39m"
      ]
     },
     "execution_count": 10,
     "metadata": {},
     "output_type": "execute_result"
    }
   ],
   "source": [
    "// Variable -> var\n",
    "var a: Int = 1;\n",
    "// Constante -> val\n",
    "val b: Int = 1;"
   ]
  },
  {
   "cell_type": "code",
   "execution_count": 9,
   "id": "d435b1b0",
   "metadata": {},
   "outputs": [],
   "source": [
    "a = 2;\n",
    "// No podemos cambiar el valor de b ya que es una constante\n",
    "// b = 3; <- No permitido"
   ]
  },
  {
   "cell_type": "markdown",
   "id": "08c47547",
   "metadata": {},
   "source": [
    "### Jerarquia de clases en Scala"
   ]
  },
  {
   "cell_type": "markdown",
   "id": "8a10694a",
   "metadata": {},
   "source": [
    "In Scala: \n",
    "![](https://docs.scala-lang.org/resources/images/tour/unified-types-diagram.svg)"
   ]
  },
  {
   "cell_type": "markdown",
   "id": "56aac0b7",
   "metadata": {},
   "source": [
    "### Tipos genéricos"
   ]
  },
  {
   "cell_type": "code",
   "execution_count": 16,
   "id": "d4f69cd2",
   "metadata": {},
   "outputs": [
    {
     "data": {
      "text/plain": [
       "defined \u001b[32mclass\u001b[39m \u001b[36mNode\u001b[39m"
      ]
     },
     "execution_count": 16,
     "metadata": {},
     "output_type": "execute_result"
    }
   ],
   "source": [
    "class Node[E](\n",
    "    var element: E, \n",
    "    var next: Node[E]\n",
    ")"
   ]
  },
  {
   "cell_type": "code",
   "execution_count": 17,
   "id": "499698cb",
   "metadata": {},
   "outputs": [
    {
     "data": {
      "text/plain": [
       "\u001b[36mnode1\u001b[39m: \u001b[32mNode\u001b[39m[\u001b[32mString\u001b[39m] = ammonite.$sess.cmd15$Helper$Node@49360e4c\r\n",
       "\u001b[36mnode2\u001b[39m: \u001b[32mNode\u001b[39m[\u001b[32mString\u001b[39m] = ammonite.$sess.cmd15$Helper$Node@4760815f"
      ]
     },
     "execution_count": 17,
     "metadata": {},
     "output_type": "execute_result"
    }
   ],
   "source": [
    "var node1: Node[String] = new Node[String](\"Soy el nodo 1\", null);\n",
    "var node2: Node[String] = new Node[String](\"Soy el nodo 2\", node1);"
   ]
  }
 ],
 "metadata": {
  "kernelspec": {
   "display_name": "Scala",
   "language": "scala",
   "name": "scala"
  },
  "language_info": {
   "codemirror_mode": "text/x-scala",
   "file_extension": ".sc",
   "mimetype": "text/x-scala",
   "name": "scala",
   "nbconvert_exporter": "script",
   "version": "2.13.8"
  }
 },
 "nbformat": 4,
 "nbformat_minor": 5
}
