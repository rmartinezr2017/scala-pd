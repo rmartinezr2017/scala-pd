{
 "cells": [
  {
   "cell_type": "markdown",
   "id": "8bfa9aa1",
   "metadata": {},
   "source": [
    "# FUNDAMENTOS DE SCALA:"
   ]
  },
  {
   "cell_type": "markdown",
   "id": "0b07ca40",
   "metadata": {
    "pycharm": {
     "name": "#%%\n"
    }
   },
   "source": [
    "## Ejercicio 1: crear una clase e instanciarla"
   ]
  },
  {
   "cell_type": "code",
   "execution_count": null,
   "id": "e9ddc516",
   "metadata": {},
   "outputs": [],
   "source": [
    "class Car (startSpeed: Int, carModel: String, startGear: Int){\n",
    "    var speed: Int = startSpeed;\n",
    "    var model: String = carModel;\n",
    "    var gear: Int = startGear;\n",
    "    \n",
    "    \n",
    "    def this(){\n",
    "        this(0, \"Beauty Car\", 1);\n",
    "    }\n",
    "    \n",
    "    def isMoving(): Boolean = {\n",
    "        speed > 0;\n",
    "    }\n",
    "    \n",
    "    // Unit -> Equivale a tipo void en otros lenguajes\n",
    "    def speedUp(deltaV: Int): Unit = {\n",
    "        speed = speed + deltaV;\n",
    "    }\n",
    "    \n",
    "    def applyBrakes(deltaV: Int): Unit = {\n",
    "        if (isMoving){\n",
    "            speed = speed - deltaV;    \n",
    "        } else {\n",
    "            System.err.println(\"The car is not moving!\");\n",
    "        }\n",
    "    }\n",
    "    \n",
    "    def changeGear(newGear: Int): Unit = {\n",
    "        gear = newGear;\n",
    "    }\n",
    "    \n",
    "    def printStastus(): Unit = {\n",
    "        println(\"Model: \" + model + \"\\n\" +\n",
    "                \"Speed: \"+ speed + \"\\n\" +\n",
    "                \"Gear: \"+ gear + \"\\n\");\n",
    "    }\n",
    "}"
   ]
  },
  {
   "cell_type": "code",
   "execution_count": null,
   "id": "5d94c2b4",
   "metadata": {
    "scrolled": true
   },
   "outputs": [],
   "source": [
    "var car1: Car = new Car()\n",
    "car1.speedUp(10);\n",
    "car1.printStastus();\n",
    "car1.changeGear(2);\n",
    "car1.speedUp(20);\n",
    "car1.printStastus();\n",
    "car1.speedUp(5);\n",
    "car1.changeGear(3);\n",
    "car1.printStastus();\n",
    "car1.applyBrakes(10);\n",
    "car1.changeGear(2);\n",
    "car1.printStastus();"
   ]
  },
  {
   "cell_type": "markdown",
   "id": "ce20db0c",
   "metadata": {},
   "source": [
    "## Ejercicio 2: Bucles"
   ]
  },
  {
   "cell_type": "markdown",
   "id": "81e8ac67",
   "metadata": {},
   "source": [
    "> ### While"
   ]
  },
  {
   "cell_type": "code",
   "execution_count": null,
   "id": "7c92a6c5",
   "metadata": {
    "scrolled": true
   },
   "outputs": [],
   "source": [
    "var index: Int = 0;\n",
    "while(index < 10) {\n",
    "    println(\"Bucle ejecutandose en la iteración \" + index);\n",
    "    index+=1;\n",
    "}"
   ]
  },
  {
   "cell_type": "markdown",
   "id": "24fedc33",
   "metadata": {},
   "source": [
    "> ### For"
   ]
  },
  {
   "cell_type": "code",
   "execution_count": null,
   "id": "4ac81e24",
   "metadata": {
    "scrolled": true
   },
   "outputs": [],
   "source": [
    "var index: Int = 0;\n",
    "for (i <- 1 to 10){\n",
    "    println(\"Bucle ejecutandose en la iteración \" + i);\n",
    "}"
   ]
  },
  {
   "cell_type": "code",
   "execution_count": null,
   "id": "93f5e6f0",
   "metadata": {},
   "outputs": [],
   "source": [
    "var numbers: Array[String] = Array(\"Hola\",\"Adios\",\"Que tal\",\"Bien\",\"Casa\",\"Perro\",\"Scala\",\"Me aburro\",\"String\",\"Python\");\n",
    "for (item <- numbers){\n",
    "    println(\"Valor: \" + item);\n",
    "}"
   ]
  },
  {
   "cell_type": "markdown",
   "id": "3b7f0324",
   "metadata": {},
   "source": [
    "### Objetos inmutables"
   ]
  },
  {
   "cell_type": "code",
   "execution_count": null,
   "id": "1affe3d6",
   "metadata": {},
   "outputs": [],
   "source": [
    "// Variable -> var\n",
    "var a: Int = 1;\n",
    "// Constante -> val\n",
    "val b: Int = 1;"
   ]
  },
  {
   "cell_type": "code",
   "execution_count": null,
   "id": "d435b1b0",
   "metadata": {},
   "outputs": [],
   "source": [
    "a = 2;\n",
    "// No podemos cambiar el valor de b ya que es una constante\n",
    "// b = 3; <- No permitido"
   ]
  },
  {
   "cell_type": "markdown",
   "id": "08c47547",
   "metadata": {},
   "source": [
    "### Jerarquia de clases en Scala"
   ]
  },
  {
   "cell_type": "markdown",
   "id": "8a10694a",
   "metadata": {},
   "source": [
    "In Scala: \n",
    "![](https://docs.scala-lang.org/resources/images/tour/unified-types-diagram.svg)"
   ]
  },
  {
   "cell_type": "markdown",
   "id": "56aac0b7",
   "metadata": {},
   "source": [
    "### Tipos genéricos"
   ]
  },
  {
   "cell_type": "code",
   "execution_count": null,
   "id": "d4f69cd2",
   "metadata": {},
   "outputs": [],
   "source": [
    "class Node[E](\n",
    "    var element: E, \n",
    "    var next: Node[E]\n",
    ")"
   ]
  },
  {
   "cell_type": "code",
   "execution_count": null,
   "id": "499698cb",
   "metadata": {},
   "outputs": [],
   "source": [
    "var node1: Node[String] = new Node[String](\"Soy el nodo 1\", null);\n",
    "var node2: Node[String] = new Node[String](\"Soy el nodo 2\", node1);"
   ]
  }
 ],
 "metadata": {
  "kernelspec": {
   "display_name": "Scala",
   "language": "scala",
   "name": "scala"
  },
  "language_info": {
   "codemirror_mode": "text/x-scala",
   "file_extension": ".sc",
   "mimetype": "text/x-scala",
   "name": "scala",
   "nbconvert_exporter": "script",
   "version": "2.13.8"
  }
 },
 "nbformat": 4,
 "nbformat_minor": 5
}
